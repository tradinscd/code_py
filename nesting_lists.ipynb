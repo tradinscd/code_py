{
 "metadata": {
  "name": "",
  "signature": "sha256:a65d81fa8b6184aa604e71e079ceb809b859c241eb105cb696867ee755d15568"
 },
 "nbformat": 3,
 "nbformat_minor": 0,
 "worksheets": [
  {
   "cells": [
    {
     "cell_type": "markdown",
     "metadata": {},
     "source": [
      "# Nesting Lists\n",
      "\n",
      "This snippit was written by [Chris R. Albon](http://www.chrisralbon.com/) and is part of his collection of [well-documented Python snippits](https://github.com/chrisalbon/code_py). All code is written in Python 3 in iPython notebook and offered under the [Creative Commons Attribution-ShareAlike 4.0 International License](http://creativecommons.org/licenses/by-sa/4.0/\"><img alt=\"Creative Commons License)."
     ]
    },
    {
     "cell_type": "markdown",
     "metadata": {},
     "source": [
      "# Create a list of three nested lists, each with three items"
     ]
    },
    {
     "cell_type": "code",
     "collapsed": false,
     "input": [
      "state_regions = [['California', 'Oregon', 'Washington'],\n",
      "        ['Texas','Georgia','Alabama'],\n",
      "        ['Maine','Vermont','New York']]"
     ],
     "language": "python",
     "metadata": {},
     "outputs": [],
     "prompt_number": 8
    },
    {
     "cell_type": "markdown",
     "metadata": {},
     "source": [
      "# View the list"
     ]
    },
    {
     "cell_type": "code",
     "collapsed": false,
     "input": [
      "state_regions"
     ],
     "language": "python",
     "metadata": {},
     "outputs": [
      {
       "metadata": {},
       "output_type": "pyout",
       "prompt_number": 9,
       "text": [
        "[['California', 'Oregon', 'Washington'],\n",
        " ['Texas', 'Georgia', 'Alabama'],\n",
        " ['Maine', 'Vermont', 'New York']]"
       ]
      }
     ],
     "prompt_number": 9
    },
    {
     "cell_type": "markdown",
     "metadata": {},
     "source": [
      "# Print the second list's third item"
     ]
    },
    {
     "cell_type": "code",
     "collapsed": false,
     "input": [
      "state_regions[1][2]"
     ],
     "language": "python",
     "metadata": {},
     "outputs": [
      {
       "metadata": {},
       "output_type": "pyout",
       "prompt_number": 10,
       "text": [
        "'Alabama'"
       ]
      }
     ],
     "prompt_number": 10
    },
    {
     "cell_type": "code",
     "collapsed": false,
     "input": [],
     "language": "python",
     "metadata": {},
     "outputs": []
    }
   ],
   "metadata": {}
  }
 ]
}