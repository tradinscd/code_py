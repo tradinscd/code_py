{
 "metadata": {
  "name": "",
  "signature": "sha256:cb2b4055f9aa850f99dd96d952b1bf8853279766ca6464fef316cbf4551b62f1"
 },
 "nbformat": 3,
 "nbformat_minor": 0,
 "worksheets": [
  {
   "cells": [
    {
     "cell_type": "markdown",
     "metadata": {},
     "source": [
      "# Creating a list of potential baby names\n",
      "\n",
      "This snippit was written by [Chris R. Albon](http://www.chrisralbon.com/) and is part of his collection of [well-documented Python snippits](https://github.com/chrisalbon/code_py). All code is written in Python 3 in iPython notebook and offered under the [Creative Commons Attribution-ShareAlike 4.0 International License](http://creativecommons.org/licenses/by-sa/4.0/)."
     ]
    },
    {
     "cell_type": "markdown",
     "metadata": {},
     "source": [
      "## Prelimaries"
     ]
    },
    {
     "cell_type": "code",
     "collapsed": false,
     "input": [
      "# Import modules\n",
      "import pandas as pd\n",
      "import numpy as np\n",
      "import os\n",
      "\n",
      "# Set plots to be inline\n",
      "%matplotlib inline\n",
      "\n",
      "# Set ipython's max row display\n",
      "pd.set_option('display.max_row', 1000)\n",
      "\n",
      "# Set iPython's max column width to 50\n",
      "pd.set_option('display.max_columns', 50)"
     ],
     "language": "python",
     "metadata": {},
     "outputs": [],
     "prompt_number": 1
    },
    {
     "cell_type": "markdown",
     "metadata": {},
     "source": [
      "## Load the data"
     ]
    },
    {
     "cell_type": "code",
     "collapsed": false,
     "input": [
      "# Create a sequence of numbers as a list, from 1880 to 2013\n",
      "file_number = list(range(1880, 2013, 1))\n",
      "\n",
      "# Convert the list to a string\n",
      "file_number = list(map((lambda x: str(x)), file_number))\n",
      "\n",
      "# View the first five elements of the list\n",
      "file_number[0:5]"
     ],
     "language": "python",
     "metadata": {},
     "outputs": [
      {
       "metadata": {},
       "output_type": "pyout",
       "prompt_number": 2,
       "text": [
        "['1880', '1881', '1882', '1883', '1884']"
       ]
      }
     ],
     "prompt_number": 2
    },
    {
     "cell_type": "code",
     "collapsed": false,
     "input": [
      "# Create a dataframe name variable\n",
      "df_name = []\n",
      "\n",
      "# Set the iteration counter\n",
      "i = 0\n",
      "\n",
      "# For each item in file_number list\n",
      "for item in file_number:\n",
      "    # Create a file name that is df_ and the file_number, then attach to df_name\n",
      "    df_name.append('df_' + str(file_number[i]))\n",
      "    # Add one to the iteration counter\n",
      "    i = i+1"
     ],
     "language": "python",
     "metadata": {},
     "outputs": [],
     "prompt_number": 3
    },
    {
     "cell_type": "code",
     "collapsed": false,
     "input": [
      "# View the top five rows of df_name\n",
      "df_name[0:5]"
     ],
     "language": "python",
     "metadata": {},
     "outputs": [
      {
       "metadata": {},
       "output_type": "pyout",
       "prompt_number": 4,
       "text": [
        "['df_1880', 'df_1881', 'df_1882', 'df_1883', 'df_1884']"
       ]
      }
     ],
     "prompt_number": 4
    },
    {
     "cell_type": "code",
     "collapsed": false,
     "input": [
      "# Create a list for the file names\n",
      "file_name = []\n",
      "\n",
      "# Create the iteration counter\n",
      "i = 0\n",
      "\n",
      "# For each item in file number,\n",
      "for item in file_number:\n",
      "    # Create a filename that combines, yob the year, and .txt\n",
      "    file_name.append('yob' + str(file_number[i]) + '.txt')\n",
      "    # Add 1 to the iteration counter\n",
      "    i = i+1"
     ],
     "language": "python",
     "metadata": {},
     "outputs": [],
     "prompt_number": 5
    },
    {
     "cell_type": "code",
     "collapsed": false,
     "input": [
      "# View the top five rows of file_name\n",
      "file_name[0:5]"
     ],
     "language": "python",
     "metadata": {},
     "outputs": [
      {
       "metadata": {},
       "output_type": "pyout",
       "prompt_number": 6,
       "text": [
        "['yob1880.txt', 'yob1881.txt', 'yob1882.txt', 'yob1883.txt', 'yob1884.txt']"
       ]
      }
     ],
     "prompt_number": 6
    },
    {
     "cell_type": "code",
     "collapsed": false,
     "input": [
      "# Create a file path for the directory where the files are located\n",
      "file_loc = os.path.abspath(\"data/names/\")"
     ],
     "language": "python",
     "metadata": {},
     "outputs": [],
     "prompt_number": 7
    },
    {
     "cell_type": "code",
     "collapsed": false,
     "input": [
      "# Create a dataframe for the data we will creat in the next step\n",
      "df = pd.DataFrame()"
     ],
     "language": "python",
     "metadata": {},
     "outputs": [],
     "prompt_number": 8
    },
    {
     "cell_type": "code",
     "collapsed": false,
     "input": [
      "# Create an iteration counter\n",
      "k = 0\n",
      "\n",
      "# For each item in df_name,\n",
      "for item in df_name:\n",
      "    # Run the command to read the csv using the variables we created previously\n",
      "    data = pd.read_csv(file_loc+'/'+file_name[k], header=None, names=['name', 'sex', 'count'])\n",
      "    # Create a variable with the year of the observation\n",
      "    data['year'] = file_number[k]\n",
      "    # Concat (i.e. attach) the data to the df\n",
      "    df = pd.concat([df, data])\n",
      "    # Add 1 to the iteration counter\n",
      "    k = k+1"
     ],
     "language": "python",
     "metadata": {},
     "outputs": [],
     "prompt_number": 9
    },
    {
     "cell_type": "code",
     "collapsed": false,
     "input": [
      "# Check the length of the df, just to make sure everything is okay\n",
      "len(df)"
     ],
     "language": "python",
     "metadata": {},
     "outputs": [
      {
       "metadata": {},
       "output_type": "pyout",
       "prompt_number": 10,
       "text": [
        "1759019"
       ]
      }
     ],
     "prompt_number": 10
    },
    {
     "cell_type": "markdown",
     "metadata": {},
     "source": [
      "## Clean the data"
     ]
    },
    {
     "cell_type": "code",
     "collapsed": false,
     "input": [
      "# Drop all males (I'm having a daughter!)\n",
      "df = df[df.sex != 'M'] "
     ],
     "language": "python",
     "metadata": {},
     "outputs": [],
     "prompt_number": 12
    },
    {
     "cell_type": "code",
     "collapsed": false,
     "input": [
      "# Check the length of the df, we should lose roughly half the observations\n",
      "len(df)"
     ],
     "language": "python",
     "metadata": {},
     "outputs": [
      {
       "metadata": {},
       "output_type": "pyout",
       "prompt_number": 13,
       "text": [
        "1043318"
       ]
      }
     ],
     "prompt_number": 13
    },
    {
     "cell_type": "code",
     "collapsed": false,
     "input": [
      "# \n",
      "df['2012'] = np.where(df['year'] == '2012', True, False)\n",
      "df = df[df.sex != 'M'] "
     ],
     "language": "python",
     "metadata": {},
     "outputs": [],
     "prompt_number": 14
    },
    {
     "cell_type": "code",
     "collapsed": false,
     "input": [
      "df['count_2012'] = df['count'][df['2012']]"
     ],
     "language": "python",
     "metadata": {},
     "outputs": [],
     "prompt_number": 15
    },
    {
     "cell_type": "markdown",
     "metadata": {},
     "source": [
      "## Reshape the data into the force we want"
     ]
    },
    {
     "cell_type": "code",
     "collapsed": false,
     "input": [
      "names = df.pivot_table(index=['name'], aggfunc=np.sum)"
     ],
     "language": "python",
     "metadata": {},
     "outputs": [],
     "prompt_number": 20
    },
    {
     "cell_type": "code",
     "collapsed": false,
     "input": [
      "names = names.sort(['count_2012'], ascending=[0])"
     ],
     "language": "python",
     "metadata": {},
     "outputs": [],
     "prompt_number": 21
    },
    {
     "cell_type": "code",
     "collapsed": false,
     "input": [
      "names = names.drop('2012', axis=1)"
     ],
     "language": "python",
     "metadata": {},
     "outputs": [],
     "prompt_number": 22
    },
    {
     "cell_type": "markdown",
     "metadata": {},
     "source": [
      "## Export the data"
     ]
    },
    {
     "cell_type": "code",
     "collapsed": false,
     "input": [
      "names.to_csv('names.csv')"
     ],
     "language": "python",
     "metadata": {},
     "outputs": [],
     "prompt_number": 23
    }
   ],
   "metadata": {}
  }
 ]
}