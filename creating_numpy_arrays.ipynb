{
 "metadata": {
  "name": "",
  "signature": "sha256:2e9021e41a489f88cd05da3e4f553b22591316319f9c88abf73709ab892bce57"
 },
 "nbformat": 3,
 "nbformat_minor": 0,
 "worksheets": [
  {
   "cells": [
    {
     "cell_type": "markdown",
     "metadata": {},
     "source": [
      "# Creating Numpy Arrays\n",
      "\n",
      "This snippit was written by [Chris R. Albon](http://www.chrisralbon.com/) and is part of his collection of [well-documented Python snippits](https://github.com/chrisalbon/code_py). All code is written in Python 3 in iPython notebook and offered under the [Creative Commons Attribution-ShareAlike 4.0 International License](http://creativecommons.org/licenses/by-sa/4.0/)."
     ]
    },
    {
     "cell_type": "markdown",
     "metadata": {},
     "source": [
      "### Import Modules"
     ]
    },
    {
     "cell_type": "code",
     "collapsed": false,
     "input": [
      "import numpy as np"
     ],
     "language": "python",
     "metadata": {},
     "outputs": [],
     "prompt_number": 3
    },
    {
     "cell_type": "markdown",
     "metadata": {},
     "source": [
      "### Create a list"
     ]
    },
    {
     "cell_type": "code",
     "collapsed": false,
     "input": [
      "regimentSize = [534, 5468, 6546, 542, 9856, 4125]"
     ],
     "language": "python",
     "metadata": {},
     "outputs": [],
     "prompt_number": 4
    },
    {
     "cell_type": "markdown",
     "metadata": {},
     "source": [
      "### Create a ndarray from the regimentSize list"
     ]
    },
    {
     "cell_type": "code",
     "collapsed": false,
     "input": [
      "regimentSizeArray = np.array(regimentSize); regimentSizeArray"
     ],
     "language": "python",
     "metadata": {},
     "outputs": [
      {
       "metadata": {},
       "output_type": "pyout",
       "prompt_number": 7,
       "text": [
        "array([ 534, 5468, 6546,  542, 9856, 4125])"
       ]
      }
     ],
     "prompt_number": 7
    },
    {
     "cell_type": "markdown",
     "metadata": {},
     "source": [
      "### What are the number of dimensions of the array?"
     ]
    },
    {
     "cell_type": "code",
     "collapsed": false,
     "input": [
      "regimentSizeArray.ndim"
     ],
     "language": "python",
     "metadata": {},
     "outputs": [
      {
       "metadata": {},
       "output_type": "pyout",
       "prompt_number": 19,
       "text": [
        "1"
       ]
      }
     ],
     "prompt_number": 19
    },
    {
     "cell_type": "markdown",
     "metadata": {},
     "source": [
      "### What is the shape of the array?"
     ]
    },
    {
     "cell_type": "code",
     "collapsed": false,
     "input": [
      "regimentSizeArray.shape"
     ],
     "language": "python",
     "metadata": {},
     "outputs": [
      {
       "metadata": {},
       "output_type": "pyout",
       "prompt_number": 9,
       "text": [
        "(6,)"
       ]
      }
     ],
     "prompt_number": 9
    },
    {
     "cell_type": "markdown",
     "metadata": {},
     "source": [
      "## Nested Lists To Multidimensional Arrays"
     ]
    },
    {
     "cell_type": "markdown",
     "metadata": {},
     "source": [
      "### Create two lists"
     ]
    },
    {
     "cell_type": "code",
     "collapsed": false,
     "input": [
      "regimentSizePreWar = [534, 5468, 6546, 542, 9856, 4125]\n",
      "regimentSizePostWar = [234, 255, 267, 732, 235, 723]"
     ],
     "language": "python",
     "metadata": {},
     "outputs": [],
     "prompt_number": 13
    },
    {
     "cell_type": "markdown",
     "metadata": {},
     "source": [
      "## Create a ndarray from a nested list"
     ]
    },
    {
     "cell_type": "code",
     "collapsed": false,
     "input": [
      "regimentSizePrePostArray = np.array([regimentSizePreWar, regimentSizePostWar]); regimentSizePrePostArray"
     ],
     "language": "python",
     "metadata": {},
     "outputs": [
      {
       "metadata": {},
       "output_type": "pyout",
       "prompt_number": 16,
       "text": [
        "array([[ 534, 5468, 6546,  542, 9856, 4125],\n",
        "       [ 234,  255,  267,  732,  235,  723]])"
       ]
      }
     ],
     "prompt_number": 16
    },
    {
     "cell_type": "markdown",
     "metadata": {},
     "source": [
      "### What are the number of dimensions of the array?"
     ]
    },
    {
     "cell_type": "code",
     "collapsed": false,
     "input": [
      "regimentSizePrePostArray.ndim"
     ],
     "language": "python",
     "metadata": {},
     "outputs": [
      {
       "metadata": {},
       "output_type": "pyout",
       "prompt_number": 17,
       "text": [
        "2"
       ]
      }
     ],
     "prompt_number": 17
    },
    {
     "cell_type": "markdown",
     "metadata": {},
     "source": [
      "### What is the shape of the array?"
     ]
    },
    {
     "cell_type": "code",
     "collapsed": false,
     "input": [
      "regimentSizePrePostArray.shape"
     ],
     "language": "python",
     "metadata": {},
     "outputs": [
      {
       "metadata": {},
       "output_type": "pyout",
       "prompt_number": 18,
       "text": [
        "(2, 6)"
       ]
      }
     ],
     "prompt_number": 18
    },
    {
     "cell_type": "code",
     "collapsed": false,
     "input": [],
     "language": "python",
     "metadata": {},
     "outputs": []
    }
   ],
   "metadata": {}
  }
 ]
}