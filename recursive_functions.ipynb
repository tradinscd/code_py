{
 "metadata": {
  "name": "",
  "signature": "sha256:a2ff50ead849f526f0b52d361f7dba36929b3c174ae64e823afc9b751e9f3790"
 },
 "nbformat": 3,
 "nbformat_minor": 0,
 "worksheets": [
  {
   "cells": [
    {
     "cell_type": "markdown",
     "metadata": {},
     "source": [
      "# Recursive Functions\n",
      "\n",
      "This snippit was written by [Chris R. Albon](http://www.chrisralbon.com/) and is part of his collection of [well-documented Python snippits](https://github.com/chrisalbon/code_py). All code is written in Python 3 in iPython notebook and offered under the [Creative Commons Attribution-ShareAlike 4.0 International License](http://creativecommons.org/licenses/by-sa/4.0/\"><img alt=\"Creative Commons License)."
     ]
    },
    {
     "cell_type": "markdown",
     "metadata": {},
     "source": [
      "## Simple factorial"
     ]
    },
    {
     "cell_type": "code",
     "collapsed": false,
     "input": [
      "print(5*4*3*2*1)"
     ],
     "language": "python",
     "metadata": {},
     "outputs": [
      {
       "output_type": "stream",
       "stream": "stdout",
       "text": [
        "120\n"
       ]
      }
     ],
     "prompt_number": 19
    },
    {
     "cell_type": "markdown",
     "metadata": {},
     "source": [
      "## Recursive function\n",
      "\n",
      "The tell-tale sign of a recursive function is a function that calls itself"
     ]
    },
    {
     "cell_type": "code",
     "collapsed": false,
     "input": [
      "# Create a function inputing n, that,\n",
      "def factorial(n):\n",
      "    # if n is less than or equal to 1,\n",
      "    if n <= 1:\n",
      "        # return n,\n",
      "        return n\n",
      "\n",
      "    # if not, return n multiplied by the output\n",
      "    # of the factorial function of one less than n\n",
      "    return n*factorial(n-1)\n",
      "\n",
      "# run the function\n",
      "factorial(5)"
     ],
     "language": "python",
     "metadata": {},
     "outputs": [
      {
       "metadata": {},
       "output_type": "pyout",
       "prompt_number": 31,
       "text": [
        "120"
       ]
      }
     ],
     "prompt_number": 31
    }
   ],
   "metadata": {}
  }
 ]
}