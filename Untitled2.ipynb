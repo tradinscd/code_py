{
 "metadata": {
  "name": "",
  "signature": "sha256:34c32ef3721553424416d206e0a2235ec3dc42ed2141da7c45ee0416bc12362e"
 },
 "nbformat": 3,
 "nbformat_minor": 0,
 "worksheets": [
  {
   "cells": [
    {
     "cell_type": "code",
     "collapsed": false,
     "input": [
      "import pandas as pd\n",
      "\n",
      "data = {'status': ['Jason', 'Molly', 'Tina', 'Jake', 'Amy'], \n",
      "        'county': [3, 42, 25, 25, 25], \n",
      "        'state': [4, 24, 31, 2, 3]}\n",
      "df = pd.DataFrame(data)\n",
      "\n",
      "\n",
      "for c in df.columns:\n",
      "    if 'state' or 'banana' in c.lower():\n",
      "        print(c, 'is in the column name')\n",
      "    else:\n",
      "        print(c, 'is not in the column name')"
     ],
     "language": "python",
     "metadata": {},
     "outputs": [
      {
       "output_type": "stream",
       "stream": "stdout",
       "text": [
        "county is in the column name\n",
        "state is in the column name\n",
        "status is in the column name\n"
       ]
      }
     ],
     "prompt_number": 52
    },
    {
     "cell_type": "code",
     "collapsed": false,
     "input": [
      "df"
     ],
     "language": "python",
     "metadata": {},
     "outputs": [
      {
       "html": [
        "<div style=\"max-height:1000px;max-width:1500px;overflow:auto;\">\n",
        "<table border=\"1\" class=\"dataframe\">\n",
        "  <thead>\n",
        "    <tr style=\"text-align: right;\">\n",
        "      <th></th>\n",
        "      <th>county</th>\n",
        "      <th>state</th>\n",
        "      <th>status</th>\n",
        "    </tr>\n",
        "  </thead>\n",
        "  <tbody>\n",
        "    <tr>\n",
        "      <th>0</th>\n",
        "      <td>  3</td>\n",
        "      <td>  4</td>\n",
        "      <td> Jason</td>\n",
        "    </tr>\n",
        "    <tr>\n",
        "      <th>1</th>\n",
        "      <td> 42</td>\n",
        "      <td> 24</td>\n",
        "      <td> Molly</td>\n",
        "    </tr>\n",
        "    <tr>\n",
        "      <th>2</th>\n",
        "      <td> 25</td>\n",
        "      <td> 31</td>\n",
        "      <td>  Tina</td>\n",
        "    </tr>\n",
        "    <tr>\n",
        "      <th>3</th>\n",
        "      <td> 25</td>\n",
        "      <td>  2</td>\n",
        "      <td>  Jake</td>\n",
        "    </tr>\n",
        "    <tr>\n",
        "      <th>4</th>\n",
        "      <td> 25</td>\n",
        "      <td>  3</td>\n",
        "      <td>   Amy</td>\n",
        "    </tr>\n",
        "  </tbody>\n",
        "</table>\n",
        "</div>"
       ],
       "metadata": {},
       "output_type": "pyout",
       "prompt_number": 47,
       "text": [
        "   county  state status\n",
        "0       3      4  Jason\n",
        "1      42     24  Molly\n",
        "2      25     31   Tina\n",
        "3      25      2   Jake\n",
        "4      25      3    Amy"
       ]
      }
     ],
     "prompt_number": 47
    },
    {
     "cell_type": "code",
     "collapsed": false,
     "input": [],
     "language": "python",
     "metadata": {},
     "outputs": []
    }
   ],
   "metadata": {}
  }
 ]
}