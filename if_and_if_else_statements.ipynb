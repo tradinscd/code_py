{
 "metadata": {
  "name": "",
  "signature": "sha256:bc3a606440ac9916c7c387cc359d7870a1f18d92bde2bbfbbddb5939c27d3ed2"
 },
 "nbformat": 3,
 "nbformat_minor": 0,
 "worksheets": [
  {
   "cells": [
    {
     "cell_type": "markdown",
     "metadata": {},
     "source": [
      "# if and if else"
     ]
    },
    {
     "cell_type": "markdown",
     "metadata": {},
     "source": [
      "This snippit was written by [Chris R. Albon](http://www.chrisralbon.com/) and is part of his collection of [well-documented Python snippits](https://github.com/chrisalbon/code_py). All code is written in Python 3 in iPython notebook and offered under the [Creative Commons Attribution-ShareAlike 4.0 International License](http://creativecommons.org/licenses/by-sa/4.0/)."
     ]
    },
    {
     "cell_type": "markdown",
     "metadata": {},
     "source": [
      "### Create a variable with the status of the conflict.\n",
      "\n",
      "- 1 if the conflict is active\n",
      "- 0 if the conflict is not active\n",
      "- unknown if the status of the conflict is unknwon"
     ]
    },
    {
     "cell_type": "code",
     "collapsed": false,
     "input": [
      "conflict_active = 1"
     ],
     "language": "python",
     "metadata": {},
     "outputs": [],
     "prompt_number": 10
    },
    {
     "cell_type": "markdown",
     "metadata": {},
     "source": [
      "### If the conflict is active print a statement"
     ]
    },
    {
     "cell_type": "code",
     "collapsed": true,
     "input": [
      "if conflict_active == 1:\n",
      "    print('The conflict is active.')"
     ],
     "language": "python",
     "metadata": {},
     "outputs": [
      {
       "output_type": "stream",
       "stream": "stdout",
       "text": [
        "The conflict is active.\n"
       ]
      }
     ],
     "prompt_number": 17
    },
    {
     "cell_type": "markdown",
     "metadata": {},
     "source": [
      "### If the conflict is active print a statement, if not, print a different statement"
     ]
    },
    {
     "cell_type": "code",
     "collapsed": false,
     "input": [
      "if conflict_active == 1:\n",
      "    print('The conflict is active.')\n",
      "else:\n",
      "    print('The conflict is not active.')"
     ],
     "language": "python",
     "metadata": {},
     "outputs": [
      {
       "output_type": "stream",
       "stream": "stdout",
       "text": [
        "The conflict is active.\n"
       ]
      }
     ],
     "prompt_number": 18
    },
    {
     "cell_type": "markdown",
     "metadata": {},
     "source": [
      "### If the conflict is active print a statement, if not, print a different statement, if unknown, state a third statement."
     ]
    },
    {
     "cell_type": "code",
     "collapsed": false,
     "input": [
      "if conflict_active == 1:\n",
      "    print('The conflict is active.')\n",
      "elif conflict_active == 'unknown':\n",
      "    print('The status of the conflict is unknown')\n",
      "else:\n",
      "    print('The conflict is not active.')"
     ],
     "language": "python",
     "metadata": {},
     "outputs": [
      {
       "output_type": "stream",
       "stream": "stdout",
       "text": [
        "The conflict is active.\n"
       ]
      }
     ],
     "prompt_number": 19
    }
   ],
   "metadata": {}
  }
 ]
}