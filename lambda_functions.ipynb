{
 "metadata": {
  "name": "",
  "signature": "sha256:6f65c854788d4cbf9604b003be0d65dbdd064b6f4c7077afb4696803529fd84d"
 },
 "nbformat": 3,
 "nbformat_minor": 0,
 "worksheets": [
  {
   "cells": [
    {
     "cell_type": "markdown",
     "metadata": {},
     "source": [
      "# Lambda Functions\n",
      "\n",
      "This snippit was written by [Chris R. Albon](http://www.chrisralbon.com/) and is part of his collection of [well-documented Python snippits](https://github.com/chrisalbon/code_py). All code is written in Python 3 in iPython notebook and offered under the [Creative Commons Attribution-ShareAlike 4.0 International License](http://creativecommons.org/licenses/by-sa/4.0/).\n",
      "\n",
      "From: Learning Python"
     ]
    },
    {
     "cell_type": "markdown",
     "metadata": {},
     "source": [
      "Lambda functions can ask as mini-functions, allowing you to create small bits of code into things like series."
     ]
    },
    {
     "cell_type": "markdown",
     "metadata": {},
     "source": [
      "### Create a series, called pipeline, that contains three mini functions"
     ]
    },
    {
     "cell_type": "code",
     "collapsed": true,
     "input": [
      "pipeline = [lambda x: x **2 - 1 + 5,\n",
      "            lambda x: x **20 - 2 + 3,\n",
      "            lambda x: x **200 - 1 + 4]"
     ],
     "language": "python",
     "metadata": {},
     "outputs": [],
     "prompt_number": 3
    },
    {
     "cell_type": "markdown",
     "metadata": {},
     "source": [
      "### For each item in pipeline, run the lambda function with x = 3"
     ]
    },
    {
     "cell_type": "code",
     "collapsed": false,
     "input": [
      "for f in pipeline:\n",
      "    print(f(3))"
     ],
     "language": "python",
     "metadata": {},
     "outputs": []
    }
   ],
   "metadata": {}
  }
 ]
}