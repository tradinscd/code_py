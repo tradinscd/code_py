{
 "metadata": {
  "name": "",
  "signature": "sha256:177d88820a0e09f87a3cf3bf0d5d3882c19725839f1a28bae2352b72764a78bc"
 },
 "nbformat": 3,
 "nbformat_minor": 0,
 "worksheets": [
  {
   "cells": [
    {
     "cell_type": "markdown",
     "metadata": {},
     "source": [
      "# List Operations\n",
      "\n",
      "This snippit was written by [Chris R. Albon](http://www.chrisralbon.com/) and is part of his collection of [well-documented Python snippits](https://github.com/chrisalbon/code_py). All code is written in Python 3 in iPython notebook and offered under the [Creative Commons Attribution-ShareAlike 4.0 International License](http://creativecommons.org/licenses/by-sa/4.0/\"><img alt=\"Creative Commons License)."
     ]
    },
    {
     "cell_type": "markdown",
     "metadata": {},
     "source": [
      "### Create a list of simulated data"
     ]
    },
    {
     "cell_type": "code",
     "collapsed": false,
     "input": [
      "countries = [\"Spain\", \"Japan\", \"Kenya\", \"Tanzania\", \"Ghana\"]"
     ],
     "language": "python",
     "metadata": {},
     "outputs": [],
     "prompt_number": 2
    },
    {
     "cell_type": "markdown",
     "metadata": {},
     "source": [
      "### Add an item to the end of the list"
     ]
    },
    {
     "cell_type": "markdown",
     "metadata": {},
     "source": [
      "Note: If the appending item contains multiple items, it is nested."
     ]
    },
    {
     "cell_type": "code",
     "collapsed": false,
     "input": [
      "countries.append(\"Nigeria\"); countries"
     ],
     "language": "python",
     "metadata": {},
     "outputs": [
      {
       "metadata": {},
       "output_type": "pyout",
       "prompt_number": 3,
       "text": [
        "['Spain', 'Japan', 'Kenya', 'Tanzania', 'Ghana', 'Nigeria']"
       ]
      }
     ],
     "prompt_number": 3
    },
    {
     "cell_type": "markdown",
     "metadata": {},
     "source": [
      "### Add all items of a list to a list"
     ]
    },
    {
     "cell_type": "code",
     "collapsed": false,
     "input": [
      "countries.extend([\"France\", \"Switzerland\", \"China\"]); countries"
     ],
     "language": "python",
     "metadata": {},
     "outputs": [
      {
       "metadata": {},
       "output_type": "pyout",
       "prompt_number": 4,
       "text": [
        "['Spain',\n",
        " 'Japan',\n",
        " 'Kenya',\n",
        " 'Tanzania',\n",
        " 'Ghana',\n",
        " 'Nigeria',\n",
        " 'France',\n",
        " 'Switzerland',\n",
        " 'China']"
       ]
      }
     ],
     "prompt_number": 4
    },
    {
     "cell_type": "markdown",
     "metadata": {},
     "source": [
      "### Insert Italy into the second position of the list countries"
     ]
    },
    {
     "cell_type": "code",
     "collapsed": false,
     "input": [
      "countries.insert(1, \"Italy\"); countries"
     ],
     "language": "python",
     "metadata": {},
     "outputs": [
      {
       "metadata": {},
       "output_type": "pyout",
       "prompt_number": 5,
       "text": [
        "['Spain',\n",
        " 'Italy',\n",
        " 'Japan',\n",
        " 'Kenya',\n",
        " 'Tanzania',\n",
        " 'Ghana',\n",
        " 'Nigeria',\n",
        " 'France',\n",
        " 'Switzerland',\n",
        " 'China']"
       ]
      }
     ],
     "prompt_number": 5
    },
    {
     "cell_type": "markdown",
     "metadata": {},
     "source": [
      "### Remove Spain from the list countries"
     ]
    },
    {
     "cell_type": "code",
     "collapsed": false,
     "input": [
      "countries.remove(\"Spain\"); countries"
     ],
     "language": "python",
     "metadata": {},
     "outputs": [
      {
       "metadata": {},
       "output_type": "pyout",
       "prompt_number": 6,
       "text": [
        "['Italy',\n",
        " 'Japan',\n",
        " 'Kenya',\n",
        " 'Tanzania',\n",
        " 'Ghana',\n",
        " 'Nigeria',\n",
        " 'France',\n",
        " 'Switzerland',\n",
        " 'China']"
       ]
      }
     ],
     "prompt_number": 6
    },
    {
     "cell_type": "markdown",
     "metadata": {},
     "source": [
      "### Delete the second item from the list countries"
     ]
    },
    {
     "cell_type": "code",
     "collapsed": false,
     "input": [
      "del countries[1]; countries"
     ],
     "language": "python",
     "metadata": {},
     "outputs": [
      {
       "metadata": {},
       "output_type": "pyout",
       "prompt_number": 7,
       "text": [
        "['Italy',\n",
        " 'Kenya',\n",
        " 'Tanzania',\n",
        " 'Ghana',\n",
        " 'Nigeria',\n",
        " 'France',\n",
        " 'Switzerland',\n",
        " 'China']"
       ]
      }
     ],
     "prompt_number": 7
    },
    {
     "cell_type": "markdown",
     "metadata": {},
     "source": [
      "### Remove the third item from the list, and returns it (i.e. \"pops it out\")"
     ]
    },
    {
     "cell_type": "code",
     "collapsed": false,
     "input": [
      "countries"
     ],
     "language": "python",
     "metadata": {},
     "outputs": [
      {
       "metadata": {},
       "output_type": "pyout",
       "prompt_number": 8,
       "text": [
        "['Italy',\n",
        " 'Kenya',\n",
        " 'Tanzania',\n",
        " 'Ghana',\n",
        " 'Nigeria',\n",
        " 'France',\n",
        " 'Switzerland',\n",
        " 'China']"
       ]
      }
     ],
     "prompt_number": 8
    },
    {
     "cell_type": "code",
     "collapsed": false,
     "input": [
      "countries.pop(3)"
     ],
     "language": "python",
     "metadata": {},
     "outputs": [
      {
       "metadata": {},
       "output_type": "pyout",
       "prompt_number": 9,
       "text": [
        "'Ghana'"
       ]
      }
     ],
     "prompt_number": 9
    },
    {
     "cell_type": "code",
     "collapsed": false,
     "input": [
      "countries"
     ],
     "language": "python",
     "metadata": {},
     "outputs": [
      {
       "metadata": {},
       "output_type": "pyout",
       "prompt_number": 10,
       "text": [
        "['Italy', 'Kenya', 'Tanzania', 'Nigeria', 'France', 'Switzerland', 'China']"
       ]
      }
     ],
     "prompt_number": 10
    },
    {
     "cell_type": "markdown",
     "metadata": {},
     "source": [
      "### Return the index of the first item that matches \"Kenya\""
     ]
    },
    {
     "cell_type": "code",
     "collapsed": false,
     "input": [
      "kenya = countries.index(\"Kenya\"); kenya"
     ],
     "language": "python",
     "metadata": {},
     "outputs": [
      {
       "metadata": {},
       "output_type": "pyout",
       "prompt_number": 11,
       "text": [
        "1"
       ]
      }
     ],
     "prompt_number": 11
    },
    {
     "cell_type": "markdown",
     "metadata": {},
     "source": [
      "### Count all number of times \"Kenya\" appears in the list countries"
     ]
    },
    {
     "cell_type": "code",
     "collapsed": false,
     "input": [
      "kenya_count = countries.count(\"Kenya\"); kenya_count"
     ],
     "language": "python",
     "metadata": {},
     "outputs": [
      {
       "metadata": {},
       "output_type": "pyout",
       "prompt_number": 12,
       "text": [
        "1"
       ]
      }
     ],
     "prompt_number": 12
    },
    {
     "cell_type": "markdown",
     "metadata": {},
     "source": [
      "### Sort the list in alphabetical order"
     ]
    },
    {
     "cell_type": "code",
     "collapsed": false,
     "input": [
      "countries.sort(); countries"
     ],
     "language": "python",
     "metadata": {},
     "outputs": [
      {
       "metadata": {},
       "output_type": "pyout",
       "prompt_number": 13,
       "text": [
        "['China', 'France', 'Italy', 'Kenya', 'Nigeria', 'Switzerland', 'Tanzania']"
       ]
      }
     ],
     "prompt_number": 13
    },
    {
     "cell_type": "markdown",
     "metadata": {},
     "source": [
      "### Reverse the elements of the list"
     ]
    },
    {
     "cell_type": "code",
     "collapsed": false,
     "input": [
      "countries.reverse(); countries"
     ],
     "language": "python",
     "metadata": {},
     "outputs": [
      {
       "metadata": {},
       "output_type": "pyout",
       "prompt_number": 14,
       "text": [
        "['Tanzania', 'Switzerland', 'Nigeria', 'Kenya', 'Italy', 'France', 'China']"
       ]
      }
     ],
     "prompt_number": 14
    },
    {
     "cell_type": "markdown",
     "metadata": {},
     "source": [
      "### Copy the list, same as countries[:]"
     ]
    },
    {
     "cell_type": "code",
     "collapsed": false,
     "input": [
      "countries_copy = countries.copy(); countries_copy"
     ],
     "language": "python",
     "metadata": {},
     "outputs": [
      {
       "metadata": {},
       "output_type": "pyout",
       "prompt_number": 15,
       "text": [
        "['Tanzania', 'Switzerland', 'Nigeria', 'Kenya', 'Italy', 'France', 'China']"
       ]
      }
     ],
     "prompt_number": 15
    },
    {
     "cell_type": "markdown",
     "metadata": {},
     "source": [
      "### Remove all the items from the list countries"
     ]
    },
    {
     "cell_type": "code",
     "collapsed": false,
     "input": [
      "countries.clear(); countries"
     ],
     "language": "python",
     "metadata": {},
     "outputs": [
      {
       "metadata": {},
       "output_type": "pyout",
       "prompt_number": 16,
       "text": [
        "[]"
       ]
      }
     ],
     "prompt_number": 16
    },
    {
     "cell_type": "code",
     "collapsed": false,
     "input": [],
     "language": "python",
     "metadata": {},
     "outputs": []
    }
   ],
   "metadata": {}
  }
 ]
}