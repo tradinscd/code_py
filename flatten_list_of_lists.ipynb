{
 "metadata": {
  "name": "",
  "signature": "sha256:604218df661fd9e68853312d58c27148f66679a3f092a25540b3d1f55730cfdb"
 },
 "nbformat": 3,
 "nbformat_minor": 0,
 "worksheets": [
  {
   "cells": [
    {
     "cell_type": "markdown",
     "metadata": {},
     "source": [
      "# Flatten Lists Of Lists\n",
      "\n",
      "This snippit was written by [Chris R. Albon](http://www.chrisralbon.com/) and is part of his collection of [well-documented Python snippits](https://github.com/chrisalbon/code_py). All code is written in Python 3 in iPython notebook and offered under the [Creative Commons Attribution-ShareAlike 4.0 International License](http://creativecommons.org/licenses/by-sa/4.0/).\n",
      "\n",
      "Based on: http://howchoo.com/g/how-to-use-list-comprehension-in-python"
     ]
    },
    {
     "cell_type": "code",
     "collapsed": false,
     "input": [
      "# Create a list containing three lists of names\n",
      "list_of_lists = [['Amy','Betty','Cathryn','Dana'], \n",
      "                 ['Elizabeth','Fay','Gora'], \n",
      "                  ['Heidi','Jane','Kayley']]"
     ],
     "language": "python",
     "metadata": {},
     "outputs": [],
     "prompt_number": 7
    },
    {
     "cell_type": "code",
     "collapsed": false,
     "input": [
      "# For each element in list_of_lists, take each element in the list\n",
      "flattened_list = [i for row in list_of_lists for i in row]"
     ],
     "language": "python",
     "metadata": {},
     "outputs": [],
     "prompt_number": 8
    },
    {
     "cell_type": "code",
     "collapsed": false,
     "input": [
      "# View the flattened list\n",
      "flattened_list"
     ],
     "language": "python",
     "metadata": {},
     "outputs": [
      {
       "metadata": {},
       "output_type": "pyout",
       "prompt_number": 9,
       "text": [
        "['Amy',\n",
        " 'Betty',\n",
        " 'Cathryn',\n",
        " 'Dana',\n",
        " 'Elizabeth',\n",
        " 'Fay',\n",
        " 'Gora',\n",
        " 'Heidi',\n",
        " 'Jane',\n",
        " 'Kayley']"
       ]
      }
     ],
     "prompt_number": 9
    }
   ],
   "metadata": {}
  }
 ]
}