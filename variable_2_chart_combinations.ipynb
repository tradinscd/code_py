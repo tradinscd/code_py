{
 "metadata": {
  "name": "",
  "signature": "sha256:8e8b9e009c445f5a833a18010f3869ed55ba798929da7cd524dd115df0b85ba8"
 },
 "nbformat": 3,
 "nbformat_minor": 0,
 "worksheets": [
  {
   "cells": [
    {
     "cell_type": "code",
     "collapsed": false,
     "input": [],
     "language": "python",
     "metadata": {},
     "outputs": []
    },
    {
     "cell_type": "code",
     "collapsed": false,
     "input": [
      "import itertools\n",
      "import pandas as pd"
     ],
     "language": "python",
     "metadata": {},
     "outputs": [],
     "prompt_number": 5
    },
    {
     "cell_type": "code",
     "collapsed": false,
     "input": [
      "stuff = [\"date\", \"int\", \"bool\", \"float\", \"category\", \"text\", \"id\", \"geo\", \"proportion\", \"contact\"]\n",
      "\n",
      "combinations = []\n",
      "\n",
      "for L in range(0, len(stuff)+1):\n",
      "  for subset in itertools.combinations(stuff, L):\n",
      "    if len(subset) < 4:\n",
      "        combinations.append(subset)"
     ],
     "language": "python",
     "metadata": {},
     "outputs": [],
     "prompt_number": 18
    },
    {
     "cell_type": "code",
     "collapsed": false,
     "input": [
      "df = pd.DataFrame(combinations)"
     ],
     "language": "python",
     "metadata": {},
     "outputs": [],
     "prompt_number": 20
    },
    {
     "cell_type": "code",
     "collapsed": false,
     "input": [
      "df.to_csv('var_combinations.csv')"
     ],
     "language": "python",
     "metadata": {},
     "outputs": [],
     "prompt_number": 21
    }
   ],
   "metadata": {}
  }
 ]
}