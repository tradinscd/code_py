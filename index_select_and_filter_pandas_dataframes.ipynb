{
 "metadata": {
  "name": "",
  "signature": "sha256:991b67ddb46f9d7db4f8a80712bb0c952be5c3891707eff94673a69444a4b799"
 },
 "nbformat": 3,
 "nbformat_minor": 0,
 "worksheets": [
  {
   "cells": [
    {
     "cell_type": "markdown",
     "metadata": {},
     "source": [
      "# Index, Select, And Filter pandas Dataframes\n",
      "\n",
      "This snippit was written by [Chris R. Albon](http://www.chrisralbon.com/) and is part of his collection of [well-documented Python snippits](https://github.com/chrisalbon/code_py). All code is written in Python 3 in iPython notebook and offered under the [Creative Commons Attribution-ShareAlike 4.0 International License](http://creativecommons.org/licenses/by-sa/4.0/)."
     ]
    },
    {
     "cell_type": "markdown",
     "metadata": {},
     "source": [
      "### Import modules"
     ]
    },
    {
     "cell_type": "code",
     "collapsed": false,
     "input": [
      "import pandas as pd"
     ],
     "language": "python",
     "metadata": {},
     "outputs": [],
     "prompt_number": 2
    },
    {
     "cell_type": "markdown",
     "metadata": {},
     "source": [
      "### Create a dataframe"
     ]
    },
    {
     "cell_type": "code",
     "collapsed": false,
     "input": [
      "data = {'name': ['Jason', 'Molly', 'Tina', 'Jake', 'Amy'], \n",
      "        'year': [2012, 2012, 2013, 2014, 2014], \n",
      "        'reports': [4, 24, 31, 2, 3],\n",
      "        'coverage': [25, 94, 57, 62, 70]}\n",
      "df = pd.DataFrame(data, index = ['Cochice', 'Pima', 'Santa Cruz', 'Maricopa', 'Yuma'])\n",
      "df"
     ],
     "language": "python",
     "metadata": {},
     "outputs": [
      {
       "html": [
        "<div style=\"max-height:1000px;max-width:1500px;overflow:auto;\">\n",
        "<table border=\"1\" class=\"dataframe\">\n",
        "  <thead>\n",
        "    <tr style=\"text-align: right;\">\n",
        "      <th></th>\n",
        "      <th>coverage</th>\n",
        "      <th>name</th>\n",
        "      <th>reports</th>\n",
        "      <th>year</th>\n",
        "    </tr>\n",
        "  </thead>\n",
        "  <tbody>\n",
        "    <tr>\n",
        "      <th>Cochice</th>\n",
        "      <td> 25</td>\n",
        "      <td> Jason</td>\n",
        "      <td>  4</td>\n",
        "      <td> 2012</td>\n",
        "    </tr>\n",
        "    <tr>\n",
        "      <th>Pima</th>\n",
        "      <td> 94</td>\n",
        "      <td> Molly</td>\n",
        "      <td> 24</td>\n",
        "      <td> 2012</td>\n",
        "    </tr>\n",
        "    <tr>\n",
        "      <th>Santa Cruz</th>\n",
        "      <td> 57</td>\n",
        "      <td>  Tina</td>\n",
        "      <td> 31</td>\n",
        "      <td> 2013</td>\n",
        "    </tr>\n",
        "    <tr>\n",
        "      <th>Maricopa</th>\n",
        "      <td> 62</td>\n",
        "      <td>  Jake</td>\n",
        "      <td>  2</td>\n",
        "      <td> 2014</td>\n",
        "    </tr>\n",
        "    <tr>\n",
        "      <th>Yuma</th>\n",
        "      <td> 70</td>\n",
        "      <td>   Amy</td>\n",
        "      <td>  3</td>\n",
        "      <td> 2014</td>\n",
        "    </tr>\n",
        "  </tbody>\n",
        "</table>\n",
        "<p>5 rows \u00d7 4 columns</p>\n",
        "</div>"
       ],
       "metadata": {},
       "output_type": "pyout",
       "prompt_number": 5,
       "text": [
        "            coverage   name  reports  year\n",
        "Cochice           25  Jason        4  2012\n",
        "Pima              94  Molly       24  2012\n",
        "Santa Cruz        57   Tina       31  2013\n",
        "Maricopa          62   Jake        2  2014\n",
        "Yuma              70    Amy        3  2014\n",
        "\n",
        "[5 rows x 4 columns]"
       ]
      }
     ],
     "prompt_number": 5
    },
    {
     "cell_type": "markdown",
     "metadata": {},
     "source": [
      "### View a column of the dataframe"
     ]
    },
    {
     "cell_type": "code",
     "collapsed": false,
     "input": [
      "df['name']"
     ],
     "language": "python",
     "metadata": {},
     "outputs": [
      {
       "metadata": {},
       "output_type": "pyout",
       "prompt_number": 6,
       "text": [
        "Cochice       Jason\n",
        "Pima          Molly\n",
        "Santa Cruz     Tina\n",
        "Maricopa       Jake\n",
        "Yuma            Amy\n",
        "Name: name, dtype: object"
       ]
      }
     ],
     "prompt_number": 6
    },
    {
     "cell_type": "markdown",
     "metadata": {},
     "source": [
      "### View two columns of the dataframe"
     ]
    },
    {
     "cell_type": "code",
     "collapsed": false,
     "input": [
      "df[['name', 'reports']]"
     ],
     "language": "python",
     "metadata": {},
     "outputs": [
      {
       "html": [
        "<div style=\"max-height:1000px;max-width:1500px;overflow:auto;\">\n",
        "<table border=\"1\" class=\"dataframe\">\n",
        "  <thead>\n",
        "    <tr style=\"text-align: right;\">\n",
        "      <th></th>\n",
        "      <th>name</th>\n",
        "      <th>reports</th>\n",
        "    </tr>\n",
        "  </thead>\n",
        "  <tbody>\n",
        "    <tr>\n",
        "      <th>Cochice</th>\n",
        "      <td> Jason</td>\n",
        "      <td>  4</td>\n",
        "    </tr>\n",
        "    <tr>\n",
        "      <th>Pima</th>\n",
        "      <td> Molly</td>\n",
        "      <td> 24</td>\n",
        "    </tr>\n",
        "    <tr>\n",
        "      <th>Santa Cruz</th>\n",
        "      <td>  Tina</td>\n",
        "      <td> 31</td>\n",
        "    </tr>\n",
        "    <tr>\n",
        "      <th>Maricopa</th>\n",
        "      <td>  Jake</td>\n",
        "      <td>  2</td>\n",
        "    </tr>\n",
        "    <tr>\n",
        "      <th>Yuma</th>\n",
        "      <td>   Amy</td>\n",
        "      <td>  3</td>\n",
        "    </tr>\n",
        "  </tbody>\n",
        "</table>\n",
        "<p>5 rows \u00d7 2 columns</p>\n",
        "</div>"
       ],
       "metadata": {},
       "output_type": "pyout",
       "prompt_number": 11,
       "text": [
        "             name  reports\n",
        "Cochice     Jason        4\n",
        "Pima        Molly       24\n",
        "Santa Cruz   Tina       31\n",
        "Maricopa     Jake        2\n",
        "Yuma          Amy        3\n",
        "\n",
        "[5 rows x 2 columns]"
       ]
      }
     ],
     "prompt_number": 11
    },
    {
     "cell_type": "markdown",
     "metadata": {},
     "source": [
      "### View the first two rows of the dataframe"
     ]
    },
    {
     "cell_type": "code",
     "collapsed": false,
     "input": [
      "df[:2]"
     ],
     "language": "python",
     "metadata": {},
     "outputs": [
      {
       "html": [
        "<div style=\"max-height:1000px;max-width:1500px;overflow:auto;\">\n",
        "<table border=\"1\" class=\"dataframe\">\n",
        "  <thead>\n",
        "    <tr style=\"text-align: right;\">\n",
        "      <th></th>\n",
        "      <th>coverage</th>\n",
        "      <th>name</th>\n",
        "      <th>reports</th>\n",
        "      <th>year</th>\n",
        "    </tr>\n",
        "  </thead>\n",
        "  <tbody>\n",
        "    <tr>\n",
        "      <th>Cochice</th>\n",
        "      <td> 25</td>\n",
        "      <td> Jason</td>\n",
        "      <td>  4</td>\n",
        "      <td> 2012</td>\n",
        "    </tr>\n",
        "    <tr>\n",
        "      <th>Pima</th>\n",
        "      <td> 94</td>\n",
        "      <td> Molly</td>\n",
        "      <td> 24</td>\n",
        "      <td> 2012</td>\n",
        "    </tr>\n",
        "  </tbody>\n",
        "</table>\n",
        "<p>2 rows \u00d7 4 columns</p>\n",
        "</div>"
       ],
       "metadata": {},
       "output_type": "pyout",
       "prompt_number": 9,
       "text": [
        "         coverage   name  reports  year\n",
        "Cochice        25  Jason        4  2012\n",
        "Pima           94  Molly       24  2012\n",
        "\n",
        "[2 rows x 4 columns]"
       ]
      }
     ],
     "prompt_number": 9
    },
    {
     "cell_type": "markdown",
     "metadata": {},
     "source": [
      "### View all rows where coverage is more than 50"
     ]
    },
    {
     "cell_type": "code",
     "collapsed": false,
     "input": [
      "df[df['coverage'] > 50]"
     ],
     "language": "python",
     "metadata": {},
     "outputs": [
      {
       "html": [
        "<div style=\"max-height:1000px;max-width:1500px;overflow:auto;\">\n",
        "<table border=\"1\" class=\"dataframe\">\n",
        "  <thead>\n",
        "    <tr style=\"text-align: right;\">\n",
        "      <th></th>\n",
        "      <th>coverage</th>\n",
        "      <th>name</th>\n",
        "      <th>reports</th>\n",
        "      <th>year</th>\n",
        "    </tr>\n",
        "  </thead>\n",
        "  <tbody>\n",
        "    <tr>\n",
        "      <th>Pima</th>\n",
        "      <td> 94</td>\n",
        "      <td> Molly</td>\n",
        "      <td> 24</td>\n",
        "      <td> 2012</td>\n",
        "    </tr>\n",
        "    <tr>\n",
        "      <th>Santa Cruz</th>\n",
        "      <td> 57</td>\n",
        "      <td>  Tina</td>\n",
        "      <td> 31</td>\n",
        "      <td> 2013</td>\n",
        "    </tr>\n",
        "    <tr>\n",
        "      <th>Maricopa</th>\n",
        "      <td> 62</td>\n",
        "      <td>  Jake</td>\n",
        "      <td>  2</td>\n",
        "      <td> 2014</td>\n",
        "    </tr>\n",
        "    <tr>\n",
        "      <th>Yuma</th>\n",
        "      <td> 70</td>\n",
        "      <td>   Amy</td>\n",
        "      <td>  3</td>\n",
        "      <td> 2014</td>\n",
        "    </tr>\n",
        "  </tbody>\n",
        "</table>\n",
        "<p>4 rows \u00d7 4 columns</p>\n",
        "</div>"
       ],
       "metadata": {},
       "output_type": "pyout",
       "prompt_number": 10,
       "text": [
        "            coverage   name  reports  year\n",
        "Pima              94  Molly       24  2012\n",
        "Santa Cruz        57   Tina       31  2013\n",
        "Maricopa          62   Jake        2  2014\n",
        "Yuma              70    Amy        3  2014\n",
        "\n",
        "[4 rows x 4 columns]"
       ]
      }
     ],
     "prompt_number": 10
    },
    {
     "cell_type": "markdown",
     "metadata": {},
     "source": [
      "### View a row"
     ]
    },
    {
     "cell_type": "code",
     "collapsed": false,
     "input": [
      "df.ix['Maricopa']"
     ],
     "language": "python",
     "metadata": {},
     "outputs": [
      {
       "metadata": {},
       "output_type": "pyout",
       "prompt_number": 17,
       "text": [
        "coverage      62\n",
        "name        Jake\n",
        "reports        2\n",
        "year        2014\n",
        "Name: Maricopa, dtype: object"
       ]
      }
     ],
     "prompt_number": 17
    },
    {
     "cell_type": "markdown",
     "metadata": {},
     "source": [
      "### View a column"
     ]
    },
    {
     "cell_type": "code",
     "collapsed": false,
     "input": [
      "df.ix[:, 'coverage']"
     ],
     "language": "python",
     "metadata": {},
     "outputs": [
      {
       "metadata": {},
       "output_type": "pyout",
       "prompt_number": 14,
       "text": [
        "Cochice       25\n",
        "Pima          94\n",
        "Santa Cruz    57\n",
        "Maricopa      62\n",
        "Yuma          70\n",
        "Name: coverage, dtype: int64"
       ]
      }
     ],
     "prompt_number": 14
    },
    {
     "cell_type": "markdown",
     "metadata": {},
     "source": [
      "### View the value based on a row and column"
     ]
    },
    {
     "cell_type": "code",
     "collapsed": false,
     "input": [
      "df.ix['Yuma', 'coverage']"
     ],
     "language": "python",
     "metadata": {},
     "outputs": [
      {
       "metadata": {},
       "output_type": "pyout",
       "prompt_number": 16,
       "text": [
        "70"
       ]
      }
     ],
     "prompt_number": 16
    },
    {
     "cell_type": "code",
     "collapsed": false,
     "input": [],
     "language": "python",
     "metadata": {},
     "outputs": []
    }
   ],
   "metadata": {}
  }
 ]
}