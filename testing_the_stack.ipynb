{
 "metadata": {
  "name": "",
  "signature": "sha256:36d577413e702865870db2231f0c3d5c89aafaecd010636ac6871b894c88baad"
 },
 "nbformat": 3,
 "nbformat_minor": 0,
 "worksheets": [
  {
   "cells": [
    {
     "cell_type": "markdown",
     "metadata": {},
     "source": [
      "# Test Script\n",
      "\n",
      "Checks the right environment is being used and one of the data science modules is installed"
     ]
    },
    {
     "cell_type": "markdown",
     "metadata": {},
     "source": [
      "### Import the modules"
     ]
    },
    {
     "cell_type": "code",
     "collapsed": false,
     "input": [
      "import sys\n",
      "import IPython"
     ],
     "language": "python",
     "metadata": {},
     "outputs": [],
     "prompt_number": 3
    },
    {
     "cell_type": "markdown",
     "metadata": {},
     "source": [
      "### Print the path to the Python environment."
     ]
    },
    {
     "cell_type": "code",
     "collapsed": false,
     "input": [
      "print(sys.executable)"
     ],
     "language": "python",
     "metadata": {},
     "outputs": [
      {
       "output_type": "stream",
       "stream": "stdout",
       "text": [
        "/Users/chrisralbon/anaconda/envs/py3k/bin/python3\n"
       ]
      }
     ],
     "prompt_number": 10
    },
    {
     "cell_type": "markdown",
     "metadata": {},
     "source": [
      "Check which version of iPython is being used."
     ]
    },
    {
     "cell_type": "code",
     "collapsed": false,
     "input": [
      "IPython.__version__"
     ],
     "language": "python",
     "metadata": {},
     "outputs": [
      {
       "metadata": {},
       "output_type": "pyout",
       "prompt_number": 11,
       "text": [
        "'2.0.0'"
       ]
      }
     ],
     "prompt_number": 11
    },
    {
     "cell_type": "markdown",
     "metadata": {},
     "source": [
      "### Run a quick test to see if numpy module is installed."
     ]
    },
    {
     "cell_type": "code",
     "collapsed": false,
     "input": [
      "import numpy as np\n",
      "arr = np.arange(100)\n",
      "arr"
     ],
     "language": "python",
     "metadata": {},
     "outputs": [
      {
       "metadata": {},
       "output_type": "pyout",
       "prompt_number": 5,
       "text": [
        "array([ 0,  1,  2,  3,  4,  5,  6,  7,  8,  9, 10, 11, 12, 13, 14, 15, 16,\n",
        "       17, 18, 19, 20, 21, 22, 23, 24, 25, 26, 27, 28, 29, 30, 31, 32, 33,\n",
        "       34, 35, 36, 37, 38, 39, 40, 41, 42, 43, 44, 45, 46, 47, 48, 49, 50,\n",
        "       51, 52, 53, 54, 55, 56, 57, 58, 59, 60, 61, 62, 63, 64, 65, 66, 67,\n",
        "       68, 69, 70, 71, 72, 73, 74, 75, 76, 77, 78, 79, 80, 81, 82, 83, 84,\n",
        "       85, 86, 87, 88, 89, 90, 91, 92, 93, 94, 95, 96, 97, 98, 99])"
       ]
      }
     ],
     "prompt_number": 5
    },
    {
     "cell_type": "markdown",
     "metadata": {},
     "source": [
      "### Run a quick test to see if pandas module is installed."
     ]
    },
    {
     "cell_type": "code",
     "collapsed": false,
     "input": [
      "import pandas as pd"
     ],
     "language": "python",
     "metadata": {},
     "outputs": [],
     "prompt_number": 6
    },
    {
     "cell_type": "code",
     "collapsed": false,
     "input": [
      "df = pd.DataFrame(np.random.randn(8, 3), \n",
      "                  index=pd.date_range('1/1/2000', periods=8), \n",
      "                  columns=['A', 'B', 'C'])\n",
      "df"
     ],
     "language": "python",
     "metadata": {},
     "outputs": [
      {
       "html": [
        "<div style=\"max-height:1000px;max-width:1500px;overflow:auto;\">\n",
        "<table border=\"1\" class=\"dataframe\">\n",
        "  <thead>\n",
        "    <tr style=\"text-align: right;\">\n",
        "      <th></th>\n",
        "      <th>A</th>\n",
        "      <th>B</th>\n",
        "      <th>C</th>\n",
        "    </tr>\n",
        "  </thead>\n",
        "  <tbody>\n",
        "    <tr>\n",
        "      <th>2000-01-01</th>\n",
        "      <td> 0.722050</td>\n",
        "      <td>-0.637863</td>\n",
        "      <td> 0.052243</td>\n",
        "    </tr>\n",
        "    <tr>\n",
        "      <th>2000-01-02</th>\n",
        "      <td> 0.655334</td>\n",
        "      <td> 0.497175</td>\n",
        "      <td>-0.257084</td>\n",
        "    </tr>\n",
        "    <tr>\n",
        "      <th>2000-01-03</th>\n",
        "      <td> 0.331140</td>\n",
        "      <td> 1.354062</td>\n",
        "      <td> 1.472741</td>\n",
        "    </tr>\n",
        "    <tr>\n",
        "      <th>2000-01-04</th>\n",
        "      <td> 1.871279</td>\n",
        "      <td> 0.479662</td>\n",
        "      <td> 1.184358</td>\n",
        "    </tr>\n",
        "    <tr>\n",
        "      <th>2000-01-05</th>\n",
        "      <td> 0.201241</td>\n",
        "      <td> 1.226922</td>\n",
        "      <td> 0.165017</td>\n",
        "    </tr>\n",
        "    <tr>\n",
        "      <th>2000-01-06</th>\n",
        "      <td>-0.169795</td>\n",
        "      <td> 0.540139</td>\n",
        "      <td>-0.255184</td>\n",
        "    </tr>\n",
        "    <tr>\n",
        "      <th>2000-01-07</th>\n",
        "      <td> 0.693643</td>\n",
        "      <td>-0.690892</td>\n",
        "      <td> 0.470026</td>\n",
        "    </tr>\n",
        "    <tr>\n",
        "      <th>2000-01-08</th>\n",
        "      <td> 1.566174</td>\n",
        "      <td>-0.560276</td>\n",
        "      <td> 0.311779</td>\n",
        "    </tr>\n",
        "  </tbody>\n",
        "</table>\n",
        "<p>8 rows \u00d7 3 columns</p>\n",
        "</div>"
       ],
       "metadata": {},
       "output_type": "pyout",
       "prompt_number": 7,
       "text": [
        "                   A         B         C\n",
        "2000-01-01  0.722050 -0.637863  0.052243\n",
        "2000-01-02  0.655334  0.497175 -0.257084\n",
        "2000-01-03  0.331140  1.354062  1.472741\n",
        "2000-01-04  1.871279  0.479662  1.184358\n",
        "2000-01-05  0.201241  1.226922  0.165017\n",
        "2000-01-06 -0.169795  0.540139 -0.255184\n",
        "2000-01-07  0.693643 -0.690892  0.470026\n",
        "2000-01-08  1.566174 -0.560276  0.311779\n",
        "\n",
        "[8 rows x 3 columns]"
       ]
      }
     ],
     "prompt_number": 7
    },
    {
     "cell_type": "markdown",
     "metadata": {},
     "source": [
      "### View the first 4 rows."
     ]
    },
    {
     "cell_type": "code",
     "collapsed": false,
     "input": [
      "df[0:4]"
     ],
     "language": "python",
     "metadata": {},
     "outputs": [],
     "prompt_number": 2
    }
   ],
   "metadata": {}
  }
 ]
}