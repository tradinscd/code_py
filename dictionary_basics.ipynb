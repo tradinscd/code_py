{
 "metadata": {
  "name": "",
  "signature": "sha256:ff1534010cb5606a30037cdf6c1c01d2fa2c71351bcc54cb0c53f9fe8e1ac7d6"
 },
 "nbformat": 3,
 "nbformat_minor": 0,
 "worksheets": [
  {
   "cells": [
    {
     "cell_type": "markdown",
     "metadata": {},
     "source": [
      "# Dictionary Basics"
     ]
    },
    {
     "cell_type": "markdown",
     "metadata": {},
     "source": [
      "This snippit was written by [Chris R. Albon](http://www.chrisralbon.com/) and is part of his collection of [well-documented Python snippits](https://github.com/chrisalbon/code_py). All code is written in Python 3 in iPython notebook and offered under the [Creative Commons Attribution-ShareAlike 4.0 International License](http://creativecommons.org/licenses/by-sa/4.0/\"><img alt=\"Creative Commons License)."
     ]
    },
    {
     "cell_type": "markdown",
     "metadata": {},
     "source": [
      "### Basics"
     ]
    },
    {
     "cell_type": "markdown",
     "metadata": {},
     "source": [
      "- Not sequences, but mappings. That is, stored by key, not relative position.\n",
      "- Dictionaries are mutable."
     ]
    },
    {
     "cell_type": "markdown",
     "metadata": {},
     "source": [
      "### Build a dictionary via brackets"
     ]
    },
    {
     "cell_type": "code",
     "collapsed": false,
     "input": [
      "unef_org = {'name' : 'UNEF',\n",
      "            'staff' : 32,\n",
      "            'url' : 'http://unef.org'}"
     ],
     "language": "python",
     "metadata": {},
     "outputs": [],
     "prompt_number": 3
    },
    {
     "cell_type": "markdown",
     "metadata": {},
     "source": [
      "### View the variable"
     ]
    },
    {
     "cell_type": "code",
     "collapsed": false,
     "input": [
      "unef_org"
     ],
     "language": "python",
     "metadata": {},
     "outputs": [
      {
       "metadata": {},
       "output_type": "pyout",
       "prompt_number": 4,
       "text": [
        "{'url': 'http://unef.org', 'name': 'UNEF', 'staff': 32}"
       ]
      }
     ],
     "prompt_number": 4
    },
    {
     "cell_type": "markdown",
     "metadata": {},
     "source": [
      "# Build a dict via keys"
     ]
    },
    {
     "cell_type": "code",
     "collapsed": false,
     "input": [
      "who_org = {}\n",
      "who_org['name'] = 'WHO'\n",
      "who_org['staff'] = '10'\n",
      "who_org['url'] = 'http://who.org'"
     ],
     "language": "python",
     "metadata": {},
     "outputs": [],
     "prompt_number": 5
    },
    {
     "cell_type": "markdown",
     "metadata": {},
     "source": [
      "### View the variable"
     ]
    },
    {
     "cell_type": "code",
     "collapsed": false,
     "input": [
      "who_org"
     ],
     "language": "python",
     "metadata": {},
     "outputs": [
      {
       "metadata": {},
       "output_type": "pyout",
       "prompt_number": 6,
       "text": [
        "{'url': 'http://who.org', 'name': 'WHO', 'staff': '10'}"
       ]
      }
     ],
     "prompt_number": 6
    },
    {
     "cell_type": "markdown",
     "metadata": {},
     "source": [
      "## Nesting in dictionaries"
     ]
    },
    {
     "cell_type": "markdown",
     "metadata": {},
     "source": [
      "### Build a dictionary via brackets"
     ]
    },
    {
     "cell_type": "code",
     "collapsed": false,
     "input": [
      "unitas_org = {'name' : 'UNITAS',\n",
      "              'staff' : 32,\n",
      "              'url' : ['http://unitas.org', 'http://unitas.int']}"
     ],
     "language": "python",
     "metadata": {},
     "outputs": [],
     "prompt_number": 7
    },
    {
     "cell_type": "markdown",
     "metadata": {},
     "source": [
      "### View the variable"
     ]
    },
    {
     "cell_type": "code",
     "collapsed": false,
     "input": [
      "unitas_org"
     ],
     "language": "python",
     "metadata": {},
     "outputs": [
      {
       "metadata": {},
       "output_type": "pyout",
       "prompt_number": 8,
       "text": [
        "{'url': ['http://unitas.org', 'http://unitas.int'],\n",
        " 'name': 'UNITAS',\n",
        " 'staff': 32}"
       ]
      }
     ],
     "prompt_number": 8
    },
    {
     "cell_type": "markdown",
     "metadata": {},
     "source": [
      "## Index the nested list"
     ]
    },
    {
     "cell_type": "markdown",
     "metadata": {},
     "source": [
      "### Index the second item of the list nested in the url key."
     ]
    },
    {
     "cell_type": "code",
     "collapsed": false,
     "input": [
      "unitas_org['url'][1]"
     ],
     "language": "python",
     "metadata": {},
     "outputs": [
      {
       "metadata": {},
       "output_type": "pyout",
       "prompt_number": 9,
       "text": [
        "'http://unitas.int'"
       ]
      }
     ],
     "prompt_number": 9
    },
    {
     "cell_type": "code",
     "collapsed": false,
     "input": [],
     "language": "python",
     "metadata": {},
     "outputs": []
    }
   ],
   "metadata": {}
  }
 ]
}