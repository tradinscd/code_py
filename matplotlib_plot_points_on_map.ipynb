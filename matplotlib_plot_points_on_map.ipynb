{
 "metadata": {
  "name": "",
  "signature": "sha256:d21515e7f9158636640b682a2bd6ec8c5c90bae8374febead9be84dfe0e17eff"
 },
 "nbformat": 3,
 "nbformat_minor": 0,
 "worksheets": [
  {
   "cells": [
    {
     "cell_type": "markdown",
     "metadata": {},
     "source": [
      "# Plot Points On A Map\n",
      "\n",
      "This snippit was written by [Chris R. Albon](http://www.chrisralbon.com/) and is part of his collection of [well-documented Python snippits](https://github.com/chrisalbon/code_py). All code is written in Python 3 in iPython notebook and offered under the [Creative Commons Attribution-ShareAlike 4.0 International License](http://creativecommons.org/licenses/by-sa/4.0/)."
     ]
    },
    {
     "cell_type": "markdown",
     "metadata": {},
     "source": [
      "## Step 2: Run this script"
     ]
    },
    {
     "cell_type": "markdown",
     "metadata": {},
     "source": [
      "### Preliminaries"
     ]
    },
    {
     "cell_type": "code",
     "collapsed": false,
     "input": [
      "# Import pandas\n",
      "import pandas as pd\n",
      "\n",
      "# Import matplotlib and Basemap\n",
      "import matplotlib.pyplot as plt\n",
      "from mpl_toolkits.basemap import Basemap\n",
      "\n",
      "# Set iPython to display visualization inline\n",
      "%matplotlib inline"
     ],
     "language": "python",
     "metadata": {},
     "outputs": [],
     "prompt_number": 1
    },
    {
     "cell_type": "code",
     "collapsed": false,
     "input": [
      "raw_data = {'latitude': [27.173968, 27.164328, 20.930555, 31.784217, 29.935895],\n",
      "            'longitude': [78.037519, 78.015289, 49.948611, 35.134277, 29.935895]}\n",
      "df = pd.DataFrame(raw_data, columns = ['latitude', 'longitude'])\n",
      "df"
     ],
     "language": "python",
     "metadata": {},
     "outputs": [
      {
       "html": [
        "<div style=\"max-height:1000px;max-width:1500px;overflow:auto;\">\n",
        "<table border=\"1\" class=\"dataframe\">\n",
        "  <thead>\n",
        "    <tr style=\"text-align: right;\">\n",
        "      <th></th>\n",
        "      <th>latitude</th>\n",
        "      <th>longitude</th>\n",
        "    </tr>\n",
        "  </thead>\n",
        "  <tbody>\n",
        "    <tr>\n",
        "      <th>0</th>\n",
        "      <td> 27.173968</td>\n",
        "      <td> 78.037519</td>\n",
        "    </tr>\n",
        "    <tr>\n",
        "      <th>1</th>\n",
        "      <td> 27.164328</td>\n",
        "      <td> 78.015289</td>\n",
        "    </tr>\n",
        "    <tr>\n",
        "      <th>2</th>\n",
        "      <td> 20.930555</td>\n",
        "      <td> 49.948611</td>\n",
        "    </tr>\n",
        "    <tr>\n",
        "      <th>3</th>\n",
        "      <td> 31.784217</td>\n",
        "      <td> 35.134277</td>\n",
        "    </tr>\n",
        "    <tr>\n",
        "      <th>4</th>\n",
        "      <td> 29.935895</td>\n",
        "      <td> 29.935895</td>\n",
        "    </tr>\n",
        "  </tbody>\n",
        "</table>\n",
        "</div>"
       ],
       "metadata": {},
       "output_type": "pyout",
       "prompt_number": 2,
       "text": [
        "    latitude  longitude\n",
        "0  27.173968  78.037519\n",
        "1  27.164328  78.015289\n",
        "2  20.930555  49.948611\n",
        "3  31.784217  35.134277\n",
        "4  29.935895  29.935895"
       ]
      }
     ]
    },
    {
     "cell_type": "markdown",
     "metadata": {},
     "source": [
      "### Map the data using basemap"
     ]
    },
    {
     "cell_type": "code",
     "collapsed": false,
     "input": [
      "# Create a figure of size (i.e. pretty big)\n",
      "fig = plt.figure(figsize=(20,10))\n",
      "\n",
      "# Create a map, using the Gall\u2013Peters projection, \n",
      "map = Basemap(projection='gall', \n",
      "              # with low resolution,\n",
      "              resolution = 'l', \n",
      "              # And threshold 100000\n",
      "              area_thresh = 100000.0,\n",
      "              # Centered at 0,0 (i.e null island)\n",
      "              lat_0=0, lon_0=0)\n",
      "\n",
      "# Draw the coastlines on the map\n",
      "map.drawcoastlines()\n",
      "\n",
      "# Draw country borders on the map\n",
      "map.drawcountries()\n",
      "\n",
      "# Fill the land with grey\n",
      "map.fillcontinents(color = '#888888')\n",
      "\n",
      "# Draw the map boundaries\n",
      "map.drawmapboundary(fill_color='#f4f4f4')\n",
      "\n",
      "# Define our longitude and latitude points\n",
      "# We have to use .values because of a wierd bug when passing pandas data\n",
      "# to basemap.\n",
      "x,y = map(df['longitude'].values, df['latitude'].values)\n",
      "\n",
      "# Plot them using round markers of size 6\n",
      "map.plot(x, y, 'ro', markersize=6)\n",
      " \n",
      "# Show the map\n",
      "plt.show()"
     ],
     "language": "python",
     "metadata": {},
     "outputs": []
    },
    {
     "cell_type": "code",
     "collapsed": false,
     "input": [],
     "language": "python",
     "metadata": {},
     "outputs": []
    }
   ],
   "metadata": {}
  }
 ]
}