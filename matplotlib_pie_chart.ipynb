{
 "metadata": {
  "name": "",
  "signature": "sha256:da6859702b9d0881fb3e3e614a420afd347faa2a5bc1b562e278176c6cf38256"
 },
 "nbformat": 3,
 "nbformat_minor": 0,
 "worksheets": [
  {
   "cells": [
    {
     "cell_type": "markdown",
     "metadata": {},
     "source": [
      "# Pie Chart In MatPlotLib\n",
      "\n",
      "This snippit was written by [Chris R. Albon](http://www.chrisralbon.com/) and is part of his collection of [well-documented Python snippits](https://github.com/chrisalbon/code_py). All code is written in Python 3 in iPython notebook and offered under the [Creative Commons Attribution-ShareAlike 4.0 International License](http://creativecommons.org/licenses/by-sa/4.0/).\n",
      "\n",
      "Based on: [Sebastian Raschka](http://nbviewer.ipython.org/github/rasbt/matplotlib-gallery/blob/master/ipynb/barplots.ipynb)."
     ]
    },
    {
     "cell_type": "markdown",
     "metadata": {},
     "source": [
      "## Preliminaries"
     ]
    },
    {
     "cell_type": "code",
     "collapsed": false,
     "input": [
      "%matplotlib inline\n",
      "import pandas as pd\n",
      "import matplotlib.pyplot as plt"
     ],
     "language": "python",
     "metadata": {},
     "outputs": [],
     "prompt_number": 2
    },
    {
     "cell_type": "markdown",
     "metadata": {},
     "source": [
      "## Create dataframe"
     ]
    },
    {
     "cell_type": "code",
     "collapsed": false,
     "input": [
      "raw_data = {'officer_name': ['Jason', 'Molly', 'Tina', 'Jake', 'Amy'],\n",
      "        'jan_arrests': [4, 24, 31, 2, 3],\n",
      "        'feb_arrests': [25, 94, 57, 62, 70],\n",
      "        'march_arrests': [5, 43, 23, 23, 51]}\n",
      "df = pd.DataFrame(raw_data, columns = ['officer_name', 'jan_arrests', 'feb_arrests', 'march_arrests'])\n",
      "df"
     ],
     "language": "python",
     "metadata": {},
     "outputs": [
      {
       "html": [
        "<div style=\"max-height:1000px;max-width:1500px;overflow:auto;\">\n",
        "<table border=\"1\" class=\"dataframe\">\n",
        "  <thead>\n",
        "    <tr style=\"text-align: right;\">\n",
        "      <th></th>\n",
        "      <th>officer_name</th>\n",
        "      <th>jan_arrests</th>\n",
        "      <th>feb_arrests</th>\n",
        "      <th>march_arrests</th>\n",
        "    </tr>\n",
        "  </thead>\n",
        "  <tbody>\n",
        "    <tr>\n",
        "      <th>0</th>\n",
        "      <td> Jason</td>\n",
        "      <td>  4</td>\n",
        "      <td> 25</td>\n",
        "      <td>  5</td>\n",
        "    </tr>\n",
        "    <tr>\n",
        "      <th>1</th>\n",
        "      <td> Molly</td>\n",
        "      <td> 24</td>\n",
        "      <td> 94</td>\n",
        "      <td> 43</td>\n",
        "    </tr>\n",
        "    <tr>\n",
        "      <th>2</th>\n",
        "      <td>  Tina</td>\n",
        "      <td> 31</td>\n",
        "      <td> 57</td>\n",
        "      <td> 23</td>\n",
        "    </tr>\n",
        "    <tr>\n",
        "      <th>3</th>\n",
        "      <td>  Jake</td>\n",
        "      <td>  2</td>\n",
        "      <td> 62</td>\n",
        "      <td> 23</td>\n",
        "    </tr>\n",
        "    <tr>\n",
        "      <th>4</th>\n",
        "      <td>   Amy</td>\n",
        "      <td>  3</td>\n",
        "      <td> 70</td>\n",
        "      <td> 51</td>\n",
        "    </tr>\n",
        "  </tbody>\n",
        "</table>\n",
        "</div>"
       ],
       "metadata": {},
       "output_type": "pyout",
       "prompt_number": 5,
       "text": [
        "  officer_name  jan_arrests  feb_arrests  march_arrests\n",
        "0        Jason            4           25              5\n",
        "1        Molly           24           94             43\n",
        "2         Tina           31           57             23\n",
        "3         Jake            2           62             23\n",
        "4          Amy            3           70             51"
       ]
      }
     ],
     "prompt_number": 5
    },
    {
     "cell_type": "code",
     "collapsed": false,
     "input": [
      "# Create a column with the total arrests for each officer\n",
      "df['total_arrests'] = df['jan_arrests'] + df['feb_arrests'] + df['march_arrests']\n",
      "df"
     ],
     "language": "python",
     "metadata": {},
     "outputs": [
      {
       "html": [
        "<div style=\"max-height:1000px;max-width:1500px;overflow:auto;\">\n",
        "<table border=\"1\" class=\"dataframe\">\n",
        "  <thead>\n",
        "    <tr style=\"text-align: right;\">\n",
        "      <th></th>\n",
        "      <th>officer_name</th>\n",
        "      <th>jan_arrests</th>\n",
        "      <th>feb_arrests</th>\n",
        "      <th>march_arrests</th>\n",
        "      <th>total_arrests</th>\n",
        "      <th>arrest_percent</th>\n",
        "    </tr>\n",
        "  </thead>\n",
        "  <tbody>\n",
        "    <tr>\n",
        "      <th>0</th>\n",
        "      <td> Jason</td>\n",
        "      <td>  4</td>\n",
        "      <td> 25</td>\n",
        "      <td>  5</td>\n",
        "      <td>  34</td>\n",
        "      <td> 0.065764</td>\n",
        "    </tr>\n",
        "    <tr>\n",
        "      <th>1</th>\n",
        "      <td> Molly</td>\n",
        "      <td> 24</td>\n",
        "      <td> 94</td>\n",
        "      <td> 43</td>\n",
        "      <td> 161</td>\n",
        "      <td> 0.311412</td>\n",
        "    </tr>\n",
        "    <tr>\n",
        "      <th>2</th>\n",
        "      <td>  Tina</td>\n",
        "      <td> 31</td>\n",
        "      <td> 57</td>\n",
        "      <td> 23</td>\n",
        "      <td> 111</td>\n",
        "      <td> 0.214700</td>\n",
        "    </tr>\n",
        "    <tr>\n",
        "      <th>3</th>\n",
        "      <td>  Jake</td>\n",
        "      <td>  2</td>\n",
        "      <td> 62</td>\n",
        "      <td> 23</td>\n",
        "      <td>  87</td>\n",
        "      <td> 0.168279</td>\n",
        "    </tr>\n",
        "    <tr>\n",
        "      <th>4</th>\n",
        "      <td>   Amy</td>\n",
        "      <td>  3</td>\n",
        "      <td> 70</td>\n",
        "      <td> 51</td>\n",
        "      <td> 124</td>\n",
        "      <td> 0.239845</td>\n",
        "    </tr>\n",
        "  </tbody>\n",
        "</table>\n",
        "</div>"
       ],
       "metadata": {},
       "output_type": "pyout",
       "prompt_number": 41,
       "text": [
        "  officer_name  jan_arrests  feb_arrests  march_arrests  total_arrests  \\\n",
        "0        Jason            4           25              5             34   \n",
        "1        Molly           24           94             43            161   \n",
        "2         Tina           31           57             23            111   \n",
        "3         Jake            2           62             23             87   \n",
        "4          Amy            3           70             51            124   \n",
        "\n",
        "   arrest_percent  \n",
        "0        0.065764  \n",
        "1        0.311412  \n",
        "2        0.214700  \n",
        "3        0.168279  \n",
        "4        0.239845  "
       ]
      }
     ],
     "prompt_number": 41
    },
    {
     "cell_type": "markdown",
     "metadata": {},
     "source": [
      "## Make plot"
     ]
    },
    {
     "cell_type": "code",
     "collapsed": false,
     "input": [
      "# Create a list of colors (from iWantHue)\n",
      "colors = [\"#E13F29\", \"#D69A80\", \"#D63B59\", \"#AE5552\", \"#CB5C3B\", \"#EB8076\", \"#96624E\"]\n",
      "\n",
      "# Create a pie chart\n",
      "plt.pie(\n",
      "    # using data total)arrests\n",
      "    df['total_arrests'],\n",
      "    # with the labels being officer names\n",
      "    labels=df['officer_name'],\n",
      "    # with no shadows\n",
      "    shadow=False,\n",
      "    # with colors\n",
      "    colors=colors,\n",
      "    # with one slide exploded out\n",
      "    explode=(0, 0, 0, 0, 0.15),\n",
      "    # with the start angle at 90%\n",
      "    startangle=90,\n",
      "    # with the percent listed as a fraction\n",
      "    autopct='%1.1f%%',\n",
      "    )\n",
      "\n",
      "# View the plot drop above\n",
      "plt.axis('equal')\n",
      "\n",
      "# View the plot\n",
      "plt.tight_layout()\n",
      "plt.show()"
     ],
     "language": "python",
     "metadata": {},
     "outputs": [
      {
       "metadata": {},
       "output_type": "display_data",
       "png": "[encoded data removed]",
       "text": [
        "<matplotlib.figure.Figure at 0x10854c790>"
       ]
      }
     ],
     "prompt_number": 46
    }
   ],
   "metadata": {}
  }
 ]
}