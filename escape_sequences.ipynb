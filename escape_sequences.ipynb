{
 "metadata": {
  "name": "",
  "signature": "sha256:f516f4d2fe80e43faed1e201a8b7fc05038d8758d8c9597f587ca42cbb9b90ed"
 },
 "nbformat": 3,
 "nbformat_minor": 0,
 "worksheets": [
  {
   "cells": [
    {
     "cell_type": "markdown",
     "metadata": {},
     "source": [
      "# Escape Sequences"
     ]
    },
    {
     "cell_type": "markdown",
     "metadata": {},
     "source": [
      "This snippit was written by [Chris R. Albon](http://www.chrisralbon.com/) and is part of his collection of [well-documented Python snippits](https://github.com/chrisalbon/code_py). All code is written in Python 3 in iPython notebook and offered under the [Creative Commons Attribution-ShareAlike 4.0 International License](http://creativecommons.org/licenses/by-sa/4.0/\"><img alt=\"Creative Commons License)."
     ]
    },
    {
     "cell_type": "markdown",
     "metadata": {},
     "source": [
      "### Apostrophe"
     ]
    },
    {
     "cell_type": "code",
     "collapsed": false,
     "input": [
      "'Chris\\'s book'"
     ],
     "language": "python",
     "metadata": {},
     "outputs": [
      {
       "metadata": {},
       "output_type": "pyout",
       "prompt_number": 2,
       "text": [
        "\"Chris's book\""
       ]
      }
     ],
     "prompt_number": 2
    },
    {
     "cell_type": "markdown",
     "metadata": {},
     "source": [
      "###  New line"
     ]
    },
    {
     "cell_type": "code",
     "collapsed": false,
     "input": [
      "print('Stay calm\\nand\\ncarry on')"
     ],
     "language": "python",
     "metadata": {},
     "outputs": [
      {
       "output_type": "stream",
       "stream": "stdout",
       "text": [
        "Stay calm\n",
        "and\n",
        "carry on\n"
       ]
      }
     ],
     "prompt_number": 5
    },
    {
     "cell_type": "markdown",
     "metadata": {},
     "source": [
      "For raw strings (i.e. you don't want Python to parse escape characters) place use r''"
     ]
    },
    {
     "cell_type": "markdown",
     "metadata": {},
     "source": [
      "###  Print exactly what is inside the quotation marks"
     ]
    },
    {
     "cell_type": "code",
     "collapsed": false,
     "input": [
      "print(r'Chris\\'s book')"
     ],
     "language": "python",
     "metadata": {},
     "outputs": [
      {
       "output_type": "stream",
       "stream": "stdout",
       "text": [
        "Chris\\'s book\n"
       ]
      }
     ],
     "prompt_number": 6
    }
   ],
   "metadata": {}
  }
 ]
}