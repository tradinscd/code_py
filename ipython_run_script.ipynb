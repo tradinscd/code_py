{
 "metadata": {
  "name": "",
  "signature": "sha256:4b1a24c3d15654f1237fca806996b2e0fb208a40ae26e86746716adc34586e1a"
 },
 "nbformat": 3,
 "nbformat_minor": 0,
 "worksheets": [
  {
   "cells": [
    {
     "cell_type": "markdown",
     "metadata": {},
     "source": [
      "# Run A Python Script Inside IPython\n",
      "\n",
      "This snippit was written by [Chris R. Albon](http://www.chrisralbon.com/) and is part of his collection of [well-documented Python snippits](https://github.com/chrisalbon/code_py). All code is written in Python 3 in iPython notebook and offered under the [Creative Commons Attribution-ShareAlike 4.0 International License](http://creativecommons.org/licenses/by-sa/4.0/)."
     ]
    },
    {
     "cell_type": "markdown",
     "metadata": {},
     "source": [
      "### Run the script"
     ]
    },
    {
     "cell_type": "code",
     "collapsed": false,
     "input": [
      "# Run a the script at the following filepath\n",
      "%run cra/cra_projects/code_py/old_snippits/arithmatic.py"
     ],
     "language": "python",
     "metadata": {},
     "outputs": [
      {
       "output_type": "stream",
       "stream": "stdout",
       "text": [
        "15\n",
        "-3\n",
        "54\n",
        "6\n",
        "0.6666666666666666\n",
        "0\n",
        "10077696\n",
        "2.5\n",
        "0.6\n",
        "0\n"
       ]
      }
     ],
     "prompt_number": 10
    }
   ],
   "metadata": {}
  }
 ]
}