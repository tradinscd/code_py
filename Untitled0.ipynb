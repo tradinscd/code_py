{
 "metadata": {
  "name": "",
  "signature": "sha256:93ae6393d7dabf60c5e68485fa12d112653c2f8fac181ed6cc216d3e9bf5e8bf"
 },
 "nbformat": 3,
 "nbformat_minor": 0,
 "worksheets": [
  {
   "cells": [
    {
     "cell_type": "code",
     "collapsed": false,
     "input": [
      "import pandas as pd\n",
      "\n",
      "raw_cat = pd.Categorical([\"a\",\"b\",\"c\",\"a\"])\n",
      "\n",
      "s = pd.Series(raw_cat)\n",
      "\n",
      "s\n",
      "\n"
     ],
     "language": "python",
     "metadata": {},
     "outputs": [
      {
       "metadata": {},
       "output_type": "pyout",
       "prompt_number": 3,
       "text": [
        "0    a\n",
        "1    b\n",
        "2    c\n",
        "3    a\n",
        "dtype: object"
       ]
      }
     ],
     "prompt_number": 3
    },
    {
     "cell_type": "code",
     "collapsed": false,
     "input": [],
     "language": "python",
     "metadata": {},
     "outputs": []
    }
   ],
   "metadata": {}
  }
 ]
}