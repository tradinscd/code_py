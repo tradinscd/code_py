{
 "metadata": {
  "name": "",
  "signature": "sha256:4ce1b37e9bd1b50648b63df33765725c16a4b78f1c206fa8358e5161915d30a8"
 },
 "nbformat": 3,
 "nbformat_minor": 0,
 "worksheets": [
  {
   "cells": [
    {
     "cell_type": "markdown",
     "metadata": {},
     "source": [
      "# Unpacking Sequences\n",
      "\n",
      "This snippit was written by [Chris R. Albon](http://www.chrisralbon.com/) and is part of his collection of [well-documented Python snippits](https://github.com/chrisalbon/code_py). All code is written in Python 3 in iPython notebook and offered under the [Creative Commons Attribution-ShareAlike 4.0 International License](http://creativecommons.org/licenses/by-sa/4.0/).\n",
      "\n",
      "- * can be used to denote that all items in a sequences that are not assigned already should be assigned"
     ]
    },
    {
     "cell_type": "markdown",
     "metadata": {},
     "source": [
      "### Create a sequence of candidates"
     ]
    },
    {
     "cell_type": "code",
     "collapsed": false,
     "input": [
      "candidatesRankedByVote = ['Julia Powers', 'Jenna Middle', 'Jake Average', 'Molly Hitler']"
     ],
     "language": "python",
     "metadata": {},
     "outputs": [],
     "prompt_number": 3
    },
    {
     "cell_type": "markdown",
     "metadata": {},
     "source": [
      "### Unpack the sequence, seperating the four values of candidatesRankedByVote into four variables."
     ]
    },
    {
     "cell_type": "code",
     "collapsed": false,
     "input": [
      "winner, runnerUp, thirdPlace, fourthPlace = candidatesRankedByVote"
     ],
     "language": "python",
     "metadata": {},
     "outputs": [],
     "prompt_number": 4
    },
    {
     "cell_type": "markdown",
     "metadata": {},
     "source": [
      "### View those four variables."
     ]
    },
    {
     "cell_type": "code",
     "collapsed": false,
     "input": [
      "print('Winner:', winner,\n",
      "      'Runner Up:', runnerUp,\n",
      "      '3rd Place:', thirdPlace,\n",
      "      '4th Place:',  fourthPlace\n",
      "      )"
     ],
     "language": "python",
     "metadata": {},
     "outputs": [
      {
       "output_type": "stream",
       "stream": "stdout",
       "text": [
        "('Winner:', 'Julia Powers', 'Runner Up:', 'Jenna Middle', '3rd Place:', 'Jake Average', '4th Place:', 'Molly Hitler')\n"
       ]
      }
     ],
     "prompt_number": 5
    },
    {
     "cell_type": "markdown",
     "metadata": {},
     "source": [
      "### Unpack the sequence, create two variables, one with the winner, and one with all the non-winners."
     ]
    },
    {
     "cell_type": "code",
     "collapsed": false,
     "input": [
      "electedCandidate, *nonElectedCandidate = candidatesRankedByVote"
     ],
     "language": "python",
     "metadata": {},
     "outputs": [
      {
       "ename": "SyntaxError",
       "evalue": "invalid syntax (<ipython-input-15-454858535585>, line 1)",
       "output_type": "pyerr",
       "traceback": [
        "\u001b[0;36m  File \u001b[0;32m\"<ipython-input-15-454858535585>\"\u001b[0;36m, line \u001b[0;32m1\u001b[0m\n\u001b[0;31m    electedCandidate, *nonElectedCandidate = candidatesRankedByVote\u001b[0m\n\u001b[0m                      ^\u001b[0m\n\u001b[0;31mSyntaxError\u001b[0m\u001b[0;31m:\u001b[0m invalid syntax\n"
       ]
      }
     ],
     "prompt_number": 15
    },
    {
     "cell_type": "code",
     "collapsed": false,
     "input": [
      "print('Victor:', electedCandidate, ', Losers:', nonElectedCandidate)"
     ],
     "language": "python",
     "metadata": {},
     "outputs": [
      {
       "ename": "NameError",
       "evalue": "name 'electedCandidate' is not defined",
       "output_type": "pyerr",
       "traceback": [
        "\u001b[0;31m---------------------------------------------------------------------------\u001b[0m\n\u001b[0;31mNameError\u001b[0m                                 Traceback (most recent call last)",
        "\u001b[0;32m<ipython-input-7-8264895622df>\u001b[0m in \u001b[0;36m<module>\u001b[0;34m()\u001b[0m\n\u001b[0;32m----> 1\u001b[0;31m \u001b[0;32mprint\u001b[0m\u001b[0;34m(\u001b[0m\u001b[0;34m'Victor:'\u001b[0m\u001b[0;34m,\u001b[0m \u001b[0melectedCandidate\u001b[0m\u001b[0;34m,\u001b[0m \u001b[0;34m', Losers:'\u001b[0m\u001b[0;34m,\u001b[0m \u001b[0mnonElectedCandidate\u001b[0m\u001b[0;34m)\u001b[0m\u001b[0;34m\u001b[0m\u001b[0m\n\u001b[0m",
        "\u001b[0;31mNameError\u001b[0m: name 'electedCandidate' is not defined"
       ]
      }
     ],
     "prompt_number": 7
    },
    {
     "cell_type": "markdown",
     "metadata": {},
     "source": [
      "### Create three variables, one for the candidate with the most votes, one forthe candidate with the least votes, and one for the middle candidates.\n",
      "\n",
      "Specifically, the * takes everything between the first and last variable assignment."
     ]
    },
    {
     "cell_type": "code",
     "collapsed": false,
     "input": [
      "mostVotes, *middleVotes, leastVotes = candidatesRankedByVote"
     ],
     "language": "python",
     "metadata": {},
     "outputs": [
      {
       "ename": "SyntaxError",
       "evalue": "invalid syntax (<ipython-input-8-57ef93a49a74>, line 1)",
       "output_type": "pyerr",
       "traceback": [
        "\u001b[0;36m  File \u001b[0;32m\"<ipython-input-8-57ef93a49a74>\"\u001b[0;36m, line \u001b[0;32m1\u001b[0m\n\u001b[0;31m    mostVotes, *middleVotes, leastVotes = candidatesRankedByVote\u001b[0m\n\u001b[0m               ^\u001b[0m\n\u001b[0;31mSyntaxError\u001b[0m\u001b[0;31m:\u001b[0m invalid syntax\n"
       ]
      }
     ],
     "prompt_number": 8
    },
    {
     "cell_type": "markdown",
     "metadata": {},
     "source": [
      "### View those three variables."
     ]
    },
    {
     "cell_type": "code",
     "collapsed": false,
     "input": [
      "print('Most Votes:', mostVotes,\n",
      "      'Middle Pack:', middleVotes,\n",
      "      'Least Votes:', leastVotes,\n",
      "      )"
     ],
     "language": "python",
     "metadata": {},
     "outputs": [
      {
       "ename": "NameError",
       "evalue": "name 'mostVotes' is not defined",
       "output_type": "pyerr",
       "traceback": [
        "\u001b[0;31m---------------------------------------------------------------------------\u001b[0m\n\u001b[0;31mNameError\u001b[0m                                 Traceback (most recent call last)",
        "\u001b[0;32m<ipython-input-9-bbbb1e63ff2e>\u001b[0m in \u001b[0;36m<module>\u001b[0;34m()\u001b[0m\n\u001b[0;32m----> 1\u001b[0;31m print('Most Votes:', mostVotes,\n\u001b[0m\u001b[1;32m      2\u001b[0m       \u001b[0;34m'Middle Pack:'\u001b[0m\u001b[0;34m,\u001b[0m \u001b[0mmiddleVotes\u001b[0m\u001b[0;34m,\u001b[0m\u001b[0;34m\u001b[0m\u001b[0m\n\u001b[1;32m      3\u001b[0m       \u001b[0;34m'Least Votes:'\u001b[0m\u001b[0;34m,\u001b[0m \u001b[0mleastVotes\u001b[0m\u001b[0;34m,\u001b[0m\u001b[0;34m\u001b[0m\u001b[0m\n\u001b[1;32m      4\u001b[0m       )\n",
        "\u001b[0;31mNameError\u001b[0m: name 'mostVotes' is not defined"
       ]
      }
     ],
     "prompt_number": 9
    },
    {
     "cell_type": "markdown",
     "metadata": {},
     "source": [
      "### Create three variables, one for the winner, one the runner up, and one for the rest."
     ]
    },
    {
     "cell_type": "code",
     "collapsed": false,
     "input": [
      "winningCandidate, runnerUpCandidates, *theRest = candidatesRankedByVote"
     ],
     "language": "python",
     "metadata": {},
     "outputs": [
      {
       "ename": "SyntaxError",
       "evalue": "invalid syntax (<ipython-input-10-d0e94e5e3195>, line 1)",
       "output_type": "pyerr",
       "traceback": [
        "\u001b[0;36m  File \u001b[0;32m\"<ipython-input-10-d0e94e5e3195>\"\u001b[0;36m, line \u001b[0;32m1\u001b[0m\n\u001b[0;31m    winningCandidate, runnerUpCandidates, *theRest = candidatesRankedByVote\u001b[0m\n\u001b[0m                                          ^\u001b[0m\n\u001b[0;31mSyntaxError\u001b[0m\u001b[0;31m:\u001b[0m invalid syntax\n"
       ]
      }
     ],
     "prompt_number": 10
    },
    {
     "cell_type": "markdown",
     "metadata": {},
     "source": [
      "### View those four variables."
     ]
    },
    {
     "cell_type": "code",
     "collapsed": false,
     "input": [
      "print('Winner:', winningCandidate,\n",
      "      'Runner Up:', runnerUpCandidates,\n",
      "      'The Rest:', theRest,\n",
      "      )"
     ],
     "language": "python",
     "metadata": {},
     "outputs": []
    }
   ],
   "metadata": {}
  }
 ]
}