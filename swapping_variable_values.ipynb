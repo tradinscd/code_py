{
 "metadata": {
  "name": "",
  "signature": "sha256:00048a34006188434605cb6387b1990d5f1a3cc0727fea2a897d481b38d35932"
 },
 "nbformat": 3,
 "nbformat_minor": 0,
 "worksheets": [
  {
   "cells": [
    {
     "cell_type": "markdown",
     "metadata": {},
     "source": [
      "# Swapping variable values\n",
      "\n",
      "This snippit was written by [Chris R. Albon](http://www.chrisralbon.com/) and is part of his collection of [well-documented Python snippits](https://github.com/chrisalbon/code_py). All code is written in Python 3 in iPython notebook and offered under the [Creative Commons Attribution-ShareAlike 4.0 International License](http://creativecommons.org/licenses/by-sa/4.0/).\n",
      "\n",
      "Originally from: Learning Python"
     ]
    },
    {
     "cell_type": "markdown",
     "metadata": {},
     "source": [
      "### Setup the originally variables and their values"
     ]
    },
    {
     "cell_type": "code",
     "collapsed": false,
     "input": [
      "one = 1\n",
      "two = 2"
     ],
     "language": "python",
     "metadata": {},
     "outputs": [],
     "prompt_number": 11
    },
    {
     "cell_type": "markdown",
     "metadata": {},
     "source": [
      "### View the original variables"
     ]
    },
    {
     "cell_type": "code",
     "collapsed": false,
     "input": [
      "'one =', one, 'two =', two"
     ],
     "language": "python",
     "metadata": {},
     "outputs": [
      {
       "metadata": {},
       "output_type": "pyout",
       "prompt_number": 12,
       "text": [
        "('one =', 1, 'two =', 2)"
       ]
      }
     ],
     "prompt_number": 12
    },
    {
     "cell_type": "markdown",
     "metadata": {},
     "source": [
      "### Swap the values"
     ]
    },
    {
     "cell_type": "code",
     "collapsed": false,
     "input": [
      "one, two = two, one"
     ],
     "language": "python",
     "metadata": {},
     "outputs": [],
     "prompt_number": 13
    },
    {
     "cell_type": "markdown",
     "metadata": {},
     "source": [
      "### View the swapped values, notice how the values for each variable have changed"
     ]
    },
    {
     "cell_type": "code",
     "collapsed": false,
     "input": [
      "'one =', one, 'two =', two"
     ],
     "language": "python",
     "metadata": {},
     "outputs": [
      {
       "metadata": {},
       "output_type": "pyout",
       "prompt_number": 14,
       "text": [
        "('one =', 2, 'two =', 1)"
       ]
      }
     ],
     "prompt_number": 14
    }
   ],
   "metadata": {}
  }
 ]
}