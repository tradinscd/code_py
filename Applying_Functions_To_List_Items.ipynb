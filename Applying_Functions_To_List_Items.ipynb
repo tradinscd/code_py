{
 "metadata": {
  "name": "",
  "signature": "sha256:47e7e56050a2cbd121f24f123c0c64e5a01a2f75bf3bea63f73798cb9d7e921c"
 },
 "nbformat": 3,
 "nbformat_minor": 0,
 "worksheets": [
  {
   "cells": [
    {
     "cell_type": "markdown",
     "metadata": {},
     "source": [
      "# Applying Functions To List Items\n",
      "\n",
      "This snippit was written by [Chris R. Albon](http://www.chrisralbon.com/) and is part of his collection of [well-documented Python snippits](https://github.com/chrisalbon/code_py). All code is written in Python 3 in iPython notebook and offered under the [Creative Commons Attribution-ShareAlike 4.0 International License](http://creativecommons.org/licenses/by-sa/4.0/)."
     ]
    },
    {
     "cell_type": "markdown",
     "metadata": {},
     "source": [
      "### Create a list of regiment names"
     ]
    },
    {
     "cell_type": "code",
     "collapsed": false,
     "input": [
      "regimentNames = ['Night Riflemen', 'Jungle Scouts', 'The Dragoons', 'Midnight Revengence', 'Wily Warriors']"
     ],
     "language": "python",
     "metadata": {},
     "outputs": [],
     "prompt_number": 23
    },
    {
     "cell_type": "markdown",
     "metadata": {},
     "source": [
      "## Using A For Loop"
     ]
    },
    {
     "cell_type": "markdown",
     "metadata": {},
     "source": [
      "### Create a for loop goes through the list and capitalizes each"
     ]
    },
    {
     "cell_type": "code",
     "collapsed": false,
     "input": [
      "# create a variable for the for loop results\n",
      "regimentNamesCapitalized_f = []\n",
      "\n",
      "# for every item in regimentNames\n",
      "for i in regimentNames:\n",
      "    # capitalize the item and add it to regimentNamesCapitalized_f\n",
      "    regimentNamesCapitalized_f.append(i.upper())\n",
      "    \n",
      "# View the outcome\n",
      "regimentNamesCapitalized_f"
     ],
     "language": "python",
     "metadata": {},
     "outputs": [
      {
       "metadata": {},
       "output_type": "pyout",
       "prompt_number": 26,
       "text": [
        "['NIGHT RIFLEMEN',\n",
        " 'JUNGLE SCOUTS',\n",
        " 'THE DRAGOONS',\n",
        " 'MIDNIGHT REVENGENCE',\n",
        " 'WILY WARRIORS']"
       ]
      }
     ],
     "prompt_number": 26
    },
    {
     "cell_type": "markdown",
     "metadata": {},
     "source": [
      "## Using Map()"
     ]
    },
    {
     "cell_type": "markdown",
     "metadata": {},
     "source": [
      "### Create a lambda function that capitalizes x"
     ]
    },
    {
     "cell_type": "code",
     "collapsed": false,
     "input": [
      "capitalizer = lambda x: x.upper()"
     ],
     "language": "python",
     "metadata": {},
     "outputs": [],
     "prompt_number": 25
    },
    {
     "cell_type": "markdown",
     "metadata": {},
     "source": [
      "### Map the capitalizer function to regimentNames, convert the map into a list, and view the variable"
     ]
    },
    {
     "cell_type": "code",
     "collapsed": false,
     "input": [
      "regimentNamesCapitalized_m = list(map(capitalizer, regimentNames)); regimentNamesCapitalized_m"
     ],
     "language": "python",
     "metadata": {},
     "outputs": [
      {
       "metadata": {},
       "output_type": "pyout",
       "prompt_number": 18,
       "text": [
        "['NIGHT RIFLEMEN',\n",
        " 'JUNGLE SCOUTS',\n",
        " 'THE DRAGOONS',\n",
        " 'MIDNIGHT REVENGENCE',\n",
        " 'WILY WARRIORS']"
       ]
      }
     ],
     "prompt_number": 18
    },
    {
     "cell_type": "markdown",
     "metadata": {},
     "source": [
      "## Using List Comprehension"
     ]
    },
    {
     "cell_type": "markdown",
     "metadata": {},
     "source": [
      "### Apply the expression x.upper to each item in the list called regiment names. Then view the output"
     ]
    },
    {
     "cell_type": "code",
     "collapsed": false,
     "input": [
      "regimentNamesCapitalized_l = [x.upper() for x in regimentNames]; regimentNamesCapitalized_l"
     ],
     "language": "python",
     "metadata": {},
     "outputs": [
      {
       "metadata": {},
       "output_type": "pyout",
       "prompt_number": 22,
       "text": [
        "['NIGHT RIFLEMEN',\n",
        " 'JUNGLE SCOUTS',\n",
        " 'THE DRAGOONS',\n",
        " 'MIDNIGHT REVENGENCE',\n",
        " 'WILY WARRIORS']"
       ]
      }
     ],
     "prompt_number": 22
    }
   ],
   "metadata": {}
  }
 ]
}