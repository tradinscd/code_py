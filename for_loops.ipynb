{
 "metadata": {
  "name": "",
  "signature": "sha256:f2dff3b0edbe8050d122b2febfc13383d53292b11258defa923e5f98d799e589"
 },
 "nbformat": 3,
 "nbformat_minor": 0,
 "worksheets": [
  {
   "cells": [
    {
     "cell_type": "markdown",
     "metadata": {},
     "source": [
      "# For Loop\n",
      "\n",
      "This snippit was written by [Chris R. Albon](http://www.chrisralbon.com/) and is part of his collection of [well-documented Python snippits](https://github.com/chrisalbon/code_py). All code is written in Python 3 in iPython notebook and offered under the [Creative Commons Attribution-ShareAlike 4.0 International License](http://creativecommons.org/licenses/by-sa/4.0/\"><img alt=\"Creative Commons License).\n",
      "\n",
      "The for loop iterates over each item in a sequences."
     ]
    },
    {
     "cell_type": "code",
     "collapsed": false,
     "input": [
      "# One at a time, assign each value of the sequence to i and,\n",
      "for i in [432, 342, 928, 920]:\n",
      "    # multiply i by 10 and store the product in a new variable, x create a new variable, x,\n",
      "    x = i * 10\n",
      "    # print the value of x\n",
      "    print(x)\n",
      "# after the entire sequence has been processes,\n",
      "else:\n",
      "    # print this\n",
      "    print('All done!')"
     ],
     "language": "python",
     "metadata": {},
     "outputs": [
      {
       "output_type": "stream",
       "stream": "stdout",
       "text": [
        "4320\n",
        "3420\n",
        "9280\n",
        "9200\n",
        "All done!\n"
       ]
      }
     ],
     "prompt_number": 2
    }
   ],
   "metadata": {}
  }
 ]
}