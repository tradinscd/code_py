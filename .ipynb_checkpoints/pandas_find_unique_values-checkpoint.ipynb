{
 "metadata": {
  "name": "",
  "signature": "sha256:a30fbf8df59c434c6246f231596ba22d1dd4ab97b359812f90da74001969de40"
 },
 "nbformat": 3,
 "nbformat_minor": 0,
 "worksheets": [
  {
   "cells": [
    {
     "cell_type": "markdown",
     "metadata": {},
     "source": [
      "# Find Unique Values In Pandas Dataframes\n",
      "\n",
      "This snippit was written by [Chris R. Albon](http://www.chrisralbon.com/) and is part of his collection of [well-documented Python snippits](https://github.com/chrisalbon/code_py). All code is written in Python 3 in iPython notebook and offered under the [Creative Commons Attribution-ShareAlike 4.0 International License](http://creativecommons.org/licenses/by-sa/4.0/)."
     ]
    },
    {
     "cell_type": "code",
     "collapsed": false,
     "input": [
      "import pandas as pd\n",
      "import numpy as np"
     ],
     "language": "python",
     "metadata": {},
     "outputs": [],
     "prompt_number": 32
    },
    {
     "cell_type": "code",
     "collapsed": false,
     "input": [
      "raw_data = {'regiment': ['51st', '29th', '2nd', '19th', '12th', '101st', '90th', '30th', '193th', '1st', '94th', '91th'], \n",
      "            'trucks': ['MAZ-7310', np.nan, 'MAZ-7310', 'MAZ-7310', 'Tatra 810', 'Tatra 810', 'Tatra 810', 'Tatra 810', 'ZIS-150', 'Tatra 810', 'ZIS-150', 'ZIS-150'],\n",
      "            'tanks': ['Merkava Mark 4', 'Merkava Mark 4', 'Merkava Mark 4', 'Leopard 2A6M', 'Leopard 2A6M', 'Leopard 2A6M', 'Arjun MBT', 'Leopard 2A6M', 'Arjun MBT', 'Arjun MBT', 'Arjun MBT', 'Arjun MBT'],\n",
      "            'aircraft': ['none', 'none', 'none', 'Harbin Z-9', 'Harbin Z-9', 'none', 'Harbin Z-9', 'SH-60B Seahawk', 'SH-60B Seahawk', 'SH-60B Seahawk', 'SH-60B Seahawk', 'SH-60B Seahawk']}\n",
      "\n",
      "df = pd.DataFrame(raw_data, columns = ['regiment', 'trucks', 'tanks', 'aircraft'])"
     ],
     "language": "python",
     "metadata": {},
     "outputs": [],
     "prompt_number": 33
    },
    {
     "cell_type": "code",
     "collapsed": false,
     "input": [
      "# View the top few rows\n",
      "df.head()"
     ],
     "language": "python",
     "metadata": {},
     "outputs": [
      {
       "html": [
        "<div style=\"max-height:1000px;max-width:1500px;overflow:auto;\">\n",
        "<table border=\"1\" class=\"dataframe\">\n",
        "  <thead>\n",
        "    <tr style=\"text-align: right;\">\n",
        "      <th></th>\n",
        "      <th>regiment</th>\n",
        "      <th>trucks</th>\n",
        "      <th>tanks</th>\n",
        "      <th>aircraft</th>\n",
        "    </tr>\n",
        "  </thead>\n",
        "  <tbody>\n",
        "    <tr>\n",
        "      <th>0</th>\n",
        "      <td> 51st</td>\n",
        "      <td>  MAZ-7310</td>\n",
        "      <td> Merkava Mark 4</td>\n",
        "      <td>       none</td>\n",
        "    </tr>\n",
        "    <tr>\n",
        "      <th>1</th>\n",
        "      <td> 29th</td>\n",
        "      <td>       NaN</td>\n",
        "      <td> Merkava Mark 4</td>\n",
        "      <td>       none</td>\n",
        "    </tr>\n",
        "    <tr>\n",
        "      <th>2</th>\n",
        "      <td>  2nd</td>\n",
        "      <td>  MAZ-7310</td>\n",
        "      <td> Merkava Mark 4</td>\n",
        "      <td>       none</td>\n",
        "    </tr>\n",
        "    <tr>\n",
        "      <th>3</th>\n",
        "      <td> 19th</td>\n",
        "      <td>  MAZ-7310</td>\n",
        "      <td>   Leopard 2A6M</td>\n",
        "      <td> Harbin Z-9</td>\n",
        "    </tr>\n",
        "    <tr>\n",
        "      <th>4</th>\n",
        "      <td> 12th</td>\n",
        "      <td> Tatra 810</td>\n",
        "      <td>   Leopard 2A6M</td>\n",
        "      <td> Harbin Z-9</td>\n",
        "    </tr>\n",
        "  </tbody>\n",
        "</table>\n",
        "</div>"
       ],
       "metadata": {},
       "output_type": "pyout",
       "prompt_number": 71,
       "text": [
        "  regiment     trucks           tanks    aircraft\n",
        "0     51st   MAZ-7310  Merkava Mark 4        none\n",
        "1     29th        NaN  Merkava Mark 4        none\n",
        "2      2nd   MAZ-7310  Merkava Mark 4        none\n",
        "3     19th   MAZ-7310    Leopard 2A6M  Harbin Z-9\n",
        "4     12th  Tatra 810    Leopard 2A6M  Harbin Z-9"
       ]
      }
     ],
     "prompt_number": 71
    },
    {
     "cell_type": "code",
     "collapsed": false,
     "input": [
      "# Create a list of unique values by turning the\n",
      "# pandas column into a set\n",
      "list(set(df.trucks))"
     ],
     "language": "python",
     "metadata": {},
     "outputs": [
      {
       "metadata": {},
       "output_type": "pyout",
       "prompt_number": 57,
       "text": [
        "[nan, 'MAZ-7310', 'ZIS-150', 'Tatra 810']"
       ]
      }
     ],
     "prompt_number": 57
    },
    {
     "cell_type": "code",
     "collapsed": false,
     "input": [
      "# Create a list of unique values in df.trucks\n",
      "list(df['trucks'].unique())"
     ],
     "language": "python",
     "metadata": {},
     "outputs": [
      {
       "metadata": {},
       "output_type": "pyout",
       "prompt_number": 73,
       "text": [
        "['MAZ-7310', nan, 'Tatra 810', 'ZIS-150']"
       ]
      }
     ],
     "prompt_number": 73
    }
   ],
   "metadata": {}
  }
 ]
}