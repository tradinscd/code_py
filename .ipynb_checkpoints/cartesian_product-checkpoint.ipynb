{
 "metadata": {
  "name": "",
  "signature": "sha256:ade2566ab5c7ca9cb880a39b507a20f21513d98bcb1fdd1be99ec7fe882c3646"
 },
 "nbformat": 3,
 "nbformat_minor": 0,
 "worksheets": [
  {
   "cells": [
    {
     "cell_type": "markdown",
     "metadata": {},
     "source": [
      "# Cartesian Product\n",
      "\n",
      "This snippit was written by [Chris R. Albon](http://www.chrisralbon.com/) and is part of his collection of [well-documented Python snippits](https://github.com/chrisalbon/code_py). All code is written in Python 3 in iPython notebook and offered under the [Creative Commons Attribution-ShareAlike 4.0 International License](http://creativecommons.org/licenses/by-sa/4.0/\"><img alt=\"Creative Commons License)."
     ]
    },
    {
     "cell_type": "code",
     "collapsed": false,
     "input": [
      "# import pandas as pd\n",
      "import pandas as pd"
     ],
     "language": "python",
     "metadata": {},
     "outputs": [],
     "prompt_number": 10
    },
    {
     "cell_type": "code",
     "collapsed": false,
     "input": [
      "# Create two lists\n",
      "i = [1,2,3,4,5]\n",
      "j = [1,2,3,4,5]"
     ],
     "language": "python",
     "metadata": {},
     "outputs": [],
     "prompt_number": 11
    },
    {
     "cell_type": "code",
     "collapsed": false,
     "input": [
      "# List every single x in i with every single y (i.e. Cartesian product)\n",
      "[(x, y) for x in i for y in j]"
     ],
     "language": "python",
     "metadata": {},
     "outputs": [
      {
       "metadata": {},
       "output_type": "pyout",
       "prompt_number": 14,
       "text": [
        "[(1, 1),\n",
        " (1, 2),\n",
        " (1, 3),\n",
        " (1, 4),\n",
        " (1, 5),\n",
        " (2, 1),\n",
        " (2, 2),\n",
        " (2, 3),\n",
        " (2, 4),\n",
        " (2, 5),\n",
        " (3, 1),\n",
        " (3, 2),\n",
        " (3, 3),\n",
        " (3, 4),\n",
        " (3, 5),\n",
        " (4, 1),\n",
        " (4, 2),\n",
        " (4, 3),\n",
        " (4, 4),\n",
        " (4, 5),\n",
        " (5, 1),\n",
        " (5, 2),\n",
        " (5, 3),\n",
        " (5, 4),\n",
        " (5, 5)]"
       ]
      }
     ],
     "prompt_number": 14
    },
    {
     "cell_type": "code",
     "collapsed": false,
     "input": [
      "# An alternative way to do the cartesian product\n",
      "\n",
      "# import itertools\n",
      "import itertools\n",
      "\n",
      "# for two sets, find the the cartisan product\n",
      "for i in itertools.product([1,2,3,4,5], [1,2,3,4,5]):\n",
      "    # and print it\n",
      "    print(i)"
     ],
     "language": "python",
     "metadata": {},
     "outputs": [
      {
       "output_type": "stream",
       "stream": "stdout",
       "text": [
        "(1, 1)\n",
        "(1, 2)\n",
        "(1, 3)\n",
        "(1, 4)\n",
        "(1, 5)\n",
        "(2, 1)\n",
        "(2, 2)\n",
        "(2, 3)\n",
        "(2, 4)\n",
        "(2, 5)\n",
        "(3, 1)\n",
        "(3, 2)\n",
        "(3, 3)\n",
        "(3, 4)\n",
        "(3, 5)\n",
        "(4, 1)\n",
        "(4, 2)\n",
        "(4, 3)\n",
        "(4, 4)\n",
        "(4, 5)\n",
        "(5, 1)\n",
        "(5, 2)\n",
        "(5, 3)\n",
        "(5, 4)\n",
        "(5, 5)\n"
       ]
      }
     ],
     "prompt_number": 16
    }
   ],
   "metadata": {}
  }
 ]
}