{
 "metadata": {
  "name": "",
  "signature": "sha256:7eafd6a7edbe065a78f112a08af95288d408a481c4e275c1ad6fd2db2b60b9d1"
 },
 "nbformat": 3,
 "nbformat_minor": 0,
 "worksheets": [
  {
   "cells": [
    {
     "cell_type": "markdown",
     "metadata": {},
     "source": [
      "# String Formatting\n",
      "\n",
      "This snippit was written by [Chris R. Albon](http://www.chrisralbon.com/) and is part of his collection of [well-documented Python snippits](https://github.com/chrisalbon/code_py). All code is written in Python 3 in iPython notebook and offered under the [Creative Commons Attribution-ShareAlike 4.0 International License](http://creativecommons.org/licenses/by-sa/4.0/)."
     ]
    },
    {
     "cell_type": "markdown",
     "metadata": {},
     "source": [
      "### Import the sys module"
     ]
    },
    {
     "cell_type": "code",
     "collapsed": false,
     "input": [
      "import sys"
     ],
     "language": "python",
     "metadata": {},
     "outputs": [],
     "prompt_number": 3
    },
    {
     "cell_type": "markdown",
     "metadata": {},
     "source": [
      "### Print a string with 1 digit and one string."
     ]
    },
    {
     "cell_type": "code",
     "collapsed": false,
     "input": [
      "'This is %d %s bird!' % (1, 'dead')"
     ],
     "language": "python",
     "metadata": {},
     "outputs": [
      {
       "metadata": {},
       "output_type": "pyout",
       "prompt_number": 1,
       "text": [
        "'This is 1dead bird!'"
       ]
      }
     ],
     "prompt_number": 1
    },
    {
     "cell_type": "markdown",
     "metadata": {},
     "source": [
      "### Print a dictionary based string"
     ]
    },
    {
     "cell_type": "code",
     "collapsed": false,
     "input": [
      "'%(number)d more %(food)s' % {'number' : 1, 'food' : 'burger'}"
     ],
     "language": "python",
     "metadata": {},
     "outputs": [
      {
       "metadata": {},
       "output_type": "pyout",
       "prompt_number": 5,
       "text": [
        "'1 more burger'"
       ]
      }
     ],
     "prompt_number": 5
    },
    {
     "cell_type": "markdown",
     "metadata": {},
     "source": [
      "### Print a string about my laptop."
     ]
    },
    {
     "cell_type": "code",
     "collapsed": false,
     "input": [
      "'My {1[kind]} runs {0.platform}'.format(sys, {'kind': 'laptop'})"
     ],
     "language": "python",
     "metadata": {},
     "outputs": [
      {
       "metadata": {},
       "output_type": "pyout",
       "prompt_number": 6,
       "text": [
        "'My laptop runs darwin'"
       ]
      }
     ],
     "prompt_number": 6
    },
    {
     "cell_type": "markdown",
     "metadata": {},
     "source": [
      "## String Formatting Codes\n",
      "- %s string\n",
      "- %r repr string\n",
      "- %c character (integer or string)\n",
      "- %d decimal\n",
      "- %i integer\n",
      "- %x hex integer\n",
      "- %X same as X but with uppercase\n",
      "- %e floating point lowercase\n",
      "- %E floating point uppercase\n",
      "- %f floating point decimal lowercase\n",
      "- %F floating point decimal uppercase\n",
      "- %g floating point e or f\n",
      "- %G floating point E or F\n",
      "- %% literal %"
     ]
    }
   ],
   "metadata": {}
  }
 ]
}