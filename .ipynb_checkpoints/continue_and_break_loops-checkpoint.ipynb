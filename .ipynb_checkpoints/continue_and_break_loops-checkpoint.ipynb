{
 "metadata": {
  "name": "",
  "signature": "sha256:16c897c3d36faea2d1ae565fdccaf30c5ab0b95bc5533844eb6ff26d0fea8db1"
 },
 "nbformat": 3,
 "nbformat_minor": 0,
 "worksheets": [
  {
   "cells": [
    {
     "cell_type": "markdown",
     "metadata": {},
     "source": [
      "# Continue And Break Loops"
     ]
    },
    {
     "cell_type": "markdown",
     "metadata": {},
     "source": [
      "- **Author:** [Chris Albon](http://www.chrisalbon.com/), [@ChrisAlbon](https://twitter.com/chrisalbon)\n",
      "- **Date:** -\n",
      "- **Repo:** [Python 3 code snippets for data science](https://github.com/chrisalbon/code_py)\n",
      "- **Note:**"
     ]
    },
    {
     "cell_type": "markdown",
     "metadata": {},
     "source": [
      "### Import the random module"
     ]
    },
    {
     "cell_type": "code",
     "collapsed": false,
     "input": [
      "import random"
     ],
     "language": "python",
     "metadata": {},
     "outputs": [],
     "prompt_number": 4
    },
    {
     "cell_type": "markdown",
     "metadata": {},
     "source": [
      "In this while loop:\n",
      "- If the number is less than 3, the loop restarts again.\n",
      "- If the number is 4, it changes running to false and the loop ends.\n",
      "- If the number is 5, it breaks out of the loop and the loop ends."
     ]
    },
    {
     "cell_type": "markdown",
     "metadata": {},
     "source": [
      "### Create a while loop"
     ]
    },
    {
     "cell_type": "code",
     "collapsed": false,
     "input": [
      "# set running to true\n",
      "running = True"
     ],
     "language": "python",
     "metadata": {},
     "outputs": [],
     "prompt_number": 7
    },
    {
     "cell_type": "code",
     "collapsed": false,
     "input": [
      "# while running is true\n",
      "while running:\n",
      "    # Create a random integer between 0 and 5\n",
      "    s = random.randint(0,5)\n",
      "    # If the integer is less than 3\n",
      "    if s < 3:\n",
      "        # Print this\n",
      "        print('It is too small, starting over.')\n",
      "        # Reset the next interation of the loop\n",
      "        # (i.e skip everything below and restart from the top)\n",
      "        continue\n",
      "    # If the integer is 4\n",
      "    if s == 4:\n",
      "        running = False\n",
      "        # Print this\n",
      "        print('It is 4! Changing running to false')\n",
      "    # If the integer is 5,\n",
      "    if s == 5:\n",
      "        # Print this\n",
      "        print('It is 5! Breaking Loop!')\n",
      "        # then stop the loop\n",
      "        break"
     ],
     "language": "python",
     "metadata": {},
     "outputs": [
      {
       "output_type": "stream",
       "stream": "stdout",
       "text": [
        "It is too small, starting over.\n",
        "It is too small, starting over.\n",
        "It is 4! Changing running to false\n"
       ]
      }
     ],
     "prompt_number": 8
    }
   ],
   "metadata": {}
  }
 ]
}