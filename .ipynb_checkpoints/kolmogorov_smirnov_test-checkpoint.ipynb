{
 "metadata": {
  "name": "",
  "signature": "sha256:e09ae16e2934781defa7f6b97ad14295518732fccc8478f9854e4ea31013324d"
 },
 "nbformat": 3,
 "nbformat_minor": 0,
 "worksheets": [
  {
   "cells": [
    {
     "cell_type": "code",
     "collapsed": false,
     "input": [
      "# Import required packages\n",
      "from scipy import stats\n",
      "import scipy as sp\n",
      "import numpy as np\n",
      "import math\n",
      "import matplotlib.pyplot as plt\n",
      "%matplotlib inline"
     ],
     "language": "python",
     "metadata": {},
     "outputs": [],
     "prompt_number": 9
    },
    {
     "cell_type": "code",
     "collapsed": false,
     "input": [
      "# Create x, which is uniformly distributed\n",
      "x = np.random.uniform(size=1000)\n",
      "\n",
      "# Plot x to double check its distribution\n",
      "plt.hist(x)\n",
      "plt.show()"
     ],
     "language": "python",
     "metadata": {},
     "outputs": [
      {
       "metadata": {},
       "output_type": "display_data",
       "png": "[encoded data removed]",
       "text": [
        "<matplotlib.figure.Figure at 0x107bba690>"
       ]
      }
     ],
     "prompt_number": 10
    },
    {
     "cell_type": "code",
     "collapsed": false,
     "input": [
      "# Create x, which is NOT uniformly distributed\n",
      "y = x**4\n",
      "\n",
      "# Plot x to double check its distribution\n",
      "plt.hist(y)\n",
      "plt.show()"
     ],
     "language": "python",
     "metadata": {},
     "outputs": [
      {
       "metadata": {},
       "output_type": "display_data",
       "png": "[encoded data removed]",
       "text": [
        "<matplotlib.figure.Figure at 0x107af6d50>"
       ]
      }
     ],
     "prompt_number": 11
    },
    {
     "cell_type": "code",
     "collapsed": false,
     "input": [
      "# Run kstest on x. We want the second returned value to be \n",
      "# not statistically significant, meaning that both come from \n",
      "# the same distribution.\n",
      "stats.kstest(x, 'uniform', args=(min(x),max(x)))"
     ],
     "language": "python",
     "metadata": {},
     "outputs": [
      {
       "metadata": {},
       "output_type": "pyout",
       "prompt_number": 12,
       "text": [
        "(0.026995716660981411, 0.45735224284132037)"
       ]
      }
     ],
     "prompt_number": 12
    },
    {
     "cell_type": "code",
     "collapsed": false,
     "input": [
      "# Run kstest on y. We want the second returned value to be \n",
      "# statistically significant, meaning that likely do not both \n",
      "# come from the same distribution.\n",
      "stats.kstest(y, 'uniform', args=(min(y),max(y)))"
     ],
     "language": "python",
     "metadata": {},
     "outputs": [
      {
       "metadata": {},
       "output_type": "pyout",
       "prompt_number": 13,
       "text": [
        "(0.47537839506450752, 0.0)"
       ]
      }
     ],
     "prompt_number": 13
    }
   ],
   "metadata": {}
  }
 ]
}