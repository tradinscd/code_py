{
 "metadata": {
  "name": "",
  "signature": "sha256:f31de46477b2663a07c56bdac9684ccc42094e16ec9c87b5caaea8cf66eaf43d"
 },
 "nbformat": 3,
 "nbformat_minor": 0,
 "worksheets": [
  {
   "cells": [
    {
     "cell_type": "markdown",
     "metadata": {},
     "source": [
      "# Expand Cells Containing Lists Into Their Own Variables In Pandas\n",
      "\n",
      "This snippit was written by [Chris R. Albon](http://www.chrisralbon.com/) and is part of his collection of [well-documented Python snippits](https://github.com/chrisalbon/code_py). All code is written in Python 3 in iPython notebook and offered under the [Creative Commons Attribution-ShareAlike 4.0 International License](http://creativecommons.org/licenses/by-sa/4.0/)."
     ]
    },
    {
     "cell_type": "code",
     "collapsed": false,
     "input": [
      "# import pandas\n",
      "import pandas as pd"
     ],
     "language": "python",
     "metadata": {},
     "outputs": [],
     "prompt_number": 20
    },
    {
     "cell_type": "code",
     "collapsed": false,
     "input": [
      "# create a dataset\n",
      "raw_data = {'score': [1,2,3], \n",
      "        'tags': [['apple','pear','guava'],['truck','car','plane'],['cat','dog','mouse']]}\n",
      "df = pd.DataFrame(raw_data, columns = ['score', 'tags'])\n",
      "\n",
      "# view the dataset\n",
      "df"
     ],
     "language": "python",
     "metadata": {},
     "outputs": [
      {
       "html": [
        "<div style=\"max-height:1000px;max-width:1500px;overflow:auto;\">\n",
        "<table border=\"1\" class=\"dataframe\">\n",
        "  <thead>\n",
        "    <tr style=\"text-align: right;\">\n",
        "      <th></th>\n",
        "      <th>score</th>\n",
        "      <th>tags</th>\n",
        "    </tr>\n",
        "  </thead>\n",
        "  <tbody>\n",
        "    <tr>\n",
        "      <th>0</th>\n",
        "      <td> 1</td>\n",
        "      <td> [apple, pear, guava]</td>\n",
        "    </tr>\n",
        "    <tr>\n",
        "      <th>1</th>\n",
        "      <td> 2</td>\n",
        "      <td>  [truck, car, plane]</td>\n",
        "    </tr>\n",
        "    <tr>\n",
        "      <th>2</th>\n",
        "      <td> 3</td>\n",
        "      <td>    [cat, dog, mouse]</td>\n",
        "    </tr>\n",
        "  </tbody>\n",
        "</table>\n",
        "</div>"
       ],
       "metadata": {},
       "output_type": "pyout",
       "prompt_number": 24,
       "text": [
        "   score                  tags\n",
        "0      1  [apple, pear, guava]\n",
        "1      2   [truck, car, plane]\n",
        "2      3     [cat, dog, mouse]"
       ]
      }
     ],
     "prompt_number": 24
    },
    {
     "cell_type": "code",
     "collapsed": false,
     "input": [
      "# expand df.tags into its own dataframe\n",
      "tags = df['tags'].apply(pd.Series)\n",
      "\n",
      "# rename each variable is tags\n",
      "tags = tags.rename(columns = lambda x : 'tag_' + str(x))\n",
      "\n",
      "# view the tags dataframe\n",
      "tags"
     ],
     "language": "python",
     "metadata": {},
     "outputs": [
      {
       "html": [
        "<div style=\"max-height:1000px;max-width:1500px;overflow:auto;\">\n",
        "<table border=\"1\" class=\"dataframe\">\n",
        "  <thead>\n",
        "    <tr style=\"text-align: right;\">\n",
        "      <th></th>\n",
        "      <th>tag_0</th>\n",
        "      <th>tag_1</th>\n",
        "      <th>tag_2</th>\n",
        "    </tr>\n",
        "  </thead>\n",
        "  <tbody>\n",
        "    <tr>\n",
        "      <th>0</th>\n",
        "      <td> apple</td>\n",
        "      <td> pear</td>\n",
        "      <td> guava</td>\n",
        "    </tr>\n",
        "    <tr>\n",
        "      <th>1</th>\n",
        "      <td> truck</td>\n",
        "      <td>  car</td>\n",
        "      <td> plane</td>\n",
        "    </tr>\n",
        "    <tr>\n",
        "      <th>2</th>\n",
        "      <td>   cat</td>\n",
        "      <td>  dog</td>\n",
        "      <td> mouse</td>\n",
        "    </tr>\n",
        "  </tbody>\n",
        "</table>\n",
        "</div>"
       ],
       "metadata": {},
       "output_type": "pyout",
       "prompt_number": 25,
       "text": [
        "   tag_0 tag_1  tag_2\n",
        "0  apple  pear  guava\n",
        "1  truck   car  plane\n",
        "2    cat   dog  mouse"
       ]
      }
     ],
     "prompt_number": 25
    },
    {
     "cell_type": "code",
     "collapsed": false,
     "input": [
      "# join the tags dataframe back to the original dataframe\n",
      "pd.concat([df[:], tags[:]], axis=1)"
     ],
     "language": "python",
     "metadata": {},
     "outputs": [
      {
       "html": [
        "<div style=\"max-height:1000px;max-width:1500px;overflow:auto;\">\n",
        "<table border=\"1\" class=\"dataframe\">\n",
        "  <thead>\n",
        "    <tr style=\"text-align: right;\">\n",
        "      <th></th>\n",
        "      <th>score</th>\n",
        "      <th>tags</th>\n",
        "      <th>tag_0</th>\n",
        "      <th>tag_1</th>\n",
        "      <th>tag_2</th>\n",
        "    </tr>\n",
        "  </thead>\n",
        "  <tbody>\n",
        "    <tr>\n",
        "      <th>0</th>\n",
        "      <td> 1</td>\n",
        "      <td> [apple, pear, guava]</td>\n",
        "      <td> apple</td>\n",
        "      <td> pear</td>\n",
        "      <td> guava</td>\n",
        "    </tr>\n",
        "    <tr>\n",
        "      <th>1</th>\n",
        "      <td> 2</td>\n",
        "      <td>  [truck, car, plane]</td>\n",
        "      <td> truck</td>\n",
        "      <td>  car</td>\n",
        "      <td> plane</td>\n",
        "    </tr>\n",
        "    <tr>\n",
        "      <th>2</th>\n",
        "      <td> 3</td>\n",
        "      <td>    [cat, dog, mouse]</td>\n",
        "      <td>   cat</td>\n",
        "      <td>  dog</td>\n",
        "      <td> mouse</td>\n",
        "    </tr>\n",
        "  </tbody>\n",
        "</table>\n",
        "</div>"
       ],
       "metadata": {},
       "output_type": "pyout",
       "prompt_number": 26,
       "text": [
        "   score                  tags  tag_0 tag_1  tag_2\n",
        "0      1  [apple, pear, guava]  apple  pear  guava\n",
        "1      2   [truck, car, plane]  truck   car  plane\n",
        "2      3     [cat, dog, mouse]    cat   dog  mouse"
       ]
      }
     ],
     "prompt_number": 26
    }
   ],
   "metadata": {}
  }
 ]
}