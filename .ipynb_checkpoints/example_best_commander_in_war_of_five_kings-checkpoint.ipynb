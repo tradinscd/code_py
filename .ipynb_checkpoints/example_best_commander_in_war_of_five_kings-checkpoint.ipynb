{
 "metadata": {
  "name": "",
  "signature": "sha256:0037d2a5418f6c8d1beacf7ed0a07ddc24b741e86f6436a5f4184dbbee57c22f"
 },
 "nbformat": 3,
 "nbformat_minor": 0,
 "worksheets": [
  {
   "cells": [
    {
     "cell_type": "markdown",
     "metadata": {},
     "source": [
      "# Who Is The Best Commander In The War Of Five Kings?\n",
      "\n",
      "This snippit was written by [Chris R. Albon](http://www.chrisralbon.com/) and is part of his collection of [well-documented Python snippits](https://github.com/chrisalbon/code_py). All code is written in Python 3 in iPython notebook and offered under the [Creative Commons Attribution-ShareAlike 4.0 International License](http://creativecommons.org/licenses/by-sa/4.0/).\n",
      "\n",
      "Based on: https://github.com/chrisalbon/war_of_the_five_kings_dataset"
     ]
    },
    {
     "cell_type": "markdown",
     "metadata": {},
     "source": [
      "## Prelimaries"
     ]
    },
    {
     "cell_type": "code",
     "collapsed": false,
     "input": [
      "# Import modules\n",
      "import pandas as pd\n",
      "\n",
      "# Set plots to be inline\n",
      "%matplotlib inline\n",
      "\n",
      "# Set ipython's max row display\n",
      "pd.set_option('display.max_row', 1000)\n",
      "\n",
      "# Set iPython's max column width to 50\n",
      "pd.set_option('display.max_columns', 50)"
     ],
     "language": "python",
     "metadata": {},
     "outputs": [],
     "prompt_number": 28
    },
    {
     "cell_type": "markdown",
     "metadata": {},
     "source": [
      "## Load the data"
     ]
    },
    {
     "cell_type": "code",
     "collapsed": false,
     "input": [
      "# Load the dataset\n",
      "df = pd.read_csv('https://www.dropbox.com/s/52cb7kcflr8qm2u/5kings_battles_v1.csv?dl=1')"
     ],
     "language": "python",
     "metadata": {},
     "outputs": [],
     "prompt_number": 29
    },
    {
     "cell_type": "markdown",
     "metadata": {},
     "source": [
      "## Create a list of winners for each battle"
     ]
    },
    {
     "cell_type": "code",
     "collapsed": false,
     "input": [
      "# Create a variable that is TRUE when the attacker wins\n",
      "attacker_wins = df['attacker_outcome'] == \"win\"\n",
      "\n",
      "# Create a list of lists of commanders who were on the winning side when the defender won\n",
      "attacker_winner = list(df['attacker_commander'][attacker_wins].str.split(', '))\n",
      "\n",
      "# Create a variable that is TRUE when the attacker looses (i.e. the defender wins)\n",
      "defender_wins = df['attacker_outcome'] == \"loss\"\n",
      "\n",
      "# Create a list of lists of commanders who were on the winning side when the defender won\n",
      "defender_winner = list(df['defender_commander'][defender_wins].str.split(', '))"
     ],
     "language": "python",
     "metadata": {},
     "outputs": [],
     "prompt_number": 30
    },
    {
     "cell_type": "markdown",
     "metadata": {},
     "source": [
      "## Remove a missing value"
     ]
    },
    {
     "cell_type": "code",
     "collapsed": false,
     "input": [
      "# Remove a missing value (the battle had no commander recorded)\n",
      "attacker_winner.pop(18)"
     ],
     "language": "python",
     "metadata": {},
     "outputs": [
      {
       "metadata": {},
       "output_type": "pyout",
       "prompt_number": 31,
       "text": [
        "nan"
       ]
      }
     ],
     "prompt_number": 31
    },
    {
     "cell_type": "markdown",
     "metadata": {},
     "source": [
      "## Create a list of commanders that were part of the winning side"
     ]
    },
    {
     "cell_type": "code",
     "collapsed": false,
     "input": [
      "# Create a list of winners\n",
      "winner = []"
     ],
     "language": "python",
     "metadata": {},
     "outputs": [],
     "prompt_number": 32
    },
    {
     "cell_type": "code",
     "collapsed": false,
     "input": [
      "# Set x at 0 for a iteration counter\n",
      "x = 0\n",
      "\n",
      "# for each row in the variable,\n",
      "for row in attacker_winner:\n",
      "    # if there is one commander listed,\n",
      "    if len(row) == 1:\n",
      "        # add the name to the winner list\n",
      "        winner.append(attacker_winner[x][0])\n",
      "    # if there are two commanders listed,\n",
      "    if len(row) == 2:\n",
      "        # add the first name to the winner list\n",
      "        winner.append(attacker_winner[x][0])\n",
      "        # add the second name to the winner list\n",
      "        winner.append(attacker_winner[x][1])\n",
      "    # if there are three commanders listed,\n",
      "    if len(row) == 3:\n",
      "        # add the first name to the winner list\n",
      "        winner.append(attacker_winner[x][0])\n",
      "        # add the second name to the winner list\n",
      "        winner.append(attacker_winner[x][1])\n",
      "        # add the third name to the winner list\n",
      "        winner.append(attacker_winner[x][2])\n",
      "    # if there are four commanders listed,\n",
      "    if len(row) == 4:\n",
      "        # add the first name to the winner list\n",
      "        winner.append(attacker_winner[x][0])\n",
      "        # add the second name to the winner list\n",
      "        winner.append(attacker_winner[x][1])\n",
      "        # add the third name to the winner list\n",
      "        winner.append(attacker_winner[x][2])\n",
      "        # add the fourth name to the winner list\n",
      "        winner.append(attacker_winner[x][3])\n",
      "    # Add one to the iterator counter\n",
      "    x = x+1"
     ],
     "language": "python",
     "metadata": {},
     "outputs": [],
     "prompt_number": 33
    },
    {
     "cell_type": "code",
     "collapsed": false,
     "input": [
      "# Set x at 0 for a iteration counter\n",
      "x = 0\n",
      "\n",
      "# for each row in the variable,\n",
      "for row in defender_winner:\n",
      "    # if there is one commander listed,\n",
      "    if len(row) == 1:\n",
      "        # add the name to the winner list\n",
      "        winner.append(defender_winner[x][0])\n",
      "    # if there are two commanders listed,\n",
      "    if len(row) == 2:\n",
      "        # add the first name to the winner list\n",
      "        winner.append(defender_winner[x][0])\n",
      "        # add the second name to the winner list\n",
      "        winner.append(defender_winner[x][1])\n",
      "    # if there are three commanders listed,\n",
      "    if len(row) == 3:\n",
      "        # add the first name to the winner list\n",
      "        winner.append(defender_winner[x][0])\n",
      "        # add the second name to the winner list\n",
      "        winner.append(defender_winner[x][1])\n",
      "        # add the third name to the winner list\n",
      "        winner.append(defender_winner[x][2])\n",
      "    # if there are four commanders listed,\n",
      "    if len(row) == 4:\n",
      "        # add the first name to the winner list\n",
      "        winner.append(defender_winner[x][0])\n",
      "        # add the second name to the winner list\n",
      "        winner.append(defender_winner[x][1])\n",
      "        # add the third name to the winner list\n",
      "        winner.append(defender_winner[x][2])\n",
      "        # add the fourth name to the winner list\n",
      "        winner.append(defender_winner[x][3])\n",
      "    # Add one to the iterator counter\n",
      "    x = x+1"
     ],
     "language": "python",
     "metadata": {},
     "outputs": [],
     "prompt_number": 34
    },
    {
     "cell_type": "markdown",
     "metadata": {},
     "source": [
      "## Create a scoreboard of wins"
     ]
    },
    {
     "cell_type": "code",
     "collapsed": false,
     "input": [
      "# Count up the number of times each commander appears in the winner list\n",
      "scoreboard = pd.Series(winner).value_counts()"
     ],
     "language": "python",
     "metadata": {},
     "outputs": [],
     "prompt_number": 35
    },
    {
     "cell_type": "code",
     "collapsed": false,
     "input": [
      "# Plot the top 10 commanders\n",
      "scoreboard[0:10].plot(kind='bar')"
     ],
     "language": "python",
     "metadata": {},
     "outputs": [
      {
       "metadata": {},
       "output_type": "pyout",
       "prompt_number": 36,
       "text": [
        "<matplotlib.axes.AxesSubplot at 0x108ed7650>"
       ]
      },
      {
       "metadata": {},
       "output_type": "display_data",
       "png": "[encoded data removed]",
       "text": [
        "<matplotlib.figure.Figure at 0x108e655d0>"
       ]
      }
     ],
     "prompt_number": 36
    }
   ],
   "metadata": {}
  }
 ]
}