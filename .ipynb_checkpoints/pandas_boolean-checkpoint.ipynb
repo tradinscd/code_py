{
 "metadata": {
  "name": "",
  "signature": "sha256:b196a018603767e2a7c0ff1799067c6d01a7e60a6e16052205e5a4319f4a27c8"
 },
 "nbformat": 3,
 "nbformat_minor": 0,
 "worksheets": [
  {
   "cells": [
    {
     "cell_type": "code",
     "collapsed": false,
     "input": [
      "import pandas as pd\n",
      "\n",
      "df = pd.DataFrame()\n",
      "\n",
      "df['x'] = [1,2,3]\n",
      "df['y'] = [3,4,5]"
     ],
     "language": "python",
     "metadata": {},
     "outputs": [],
     "prompt_number": 87
    },
    {
     "cell_type": "code",
     "collapsed": false,
     "input": [
      "if all(df['x'] < df['y']):\n",
      "    print('True')\n",
      "else:\n",
      "    print('False')"
     ],
     "language": "python",
     "metadata": {},
     "outputs": [
      {
       "output_type": "stream",
       "stream": "stdout",
       "text": [
        "True\n"
       ]
      }
     ],
     "prompt_number": 88
    },
    {
     "cell_type": "code",
     "collapsed": false,
     "input": [
      "if any(df['x'] < df['y']):\n",
      "    print('True')\n",
      "else:\n",
      "    print('False')"
     ],
     "language": "python",
     "metadata": {},
     "outputs": [
      {
       "output_type": "stream",
       "stream": "stdout",
       "text": [
        "False\n"
       ]
      }
     ],
     "prompt_number": 90
    }
   ],
   "metadata": {}
  }
 ]
}