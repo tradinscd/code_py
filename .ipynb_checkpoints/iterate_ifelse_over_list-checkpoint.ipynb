{
 "metadata": {
  "name": "",
  "signature": "sha256:4d5e4a899b7a80d17f1cfe0dc49eceabc761f60773a785a4e296e7d291fc585d"
 },
 "nbformat": 3,
 "nbformat_minor": 0,
 "worksheets": [
  {
   "cells": [
    {
     "cell_type": "markdown",
     "metadata": {},
     "source": [
      "# Iterate An Ifelse Over A List\n",
      "\n",
      "This snippit was written by [Chris R. Albon](http://www.chrisralbon.com/) and is part of his collection of [well-documented Python snippits](https://github.com/chrisalbon/code_py). All code is written in Python 3 in iPython notebook and offered under the [Creative Commons Attribution-ShareAlike 4.0 International License](http://creativecommons.org/licenses/by-sa/4.0/).\n",
      "\n",
      "[Source](http://www.jeffknupp.com/blog/2014/05/28/a-nice-little-bit-of-python/)"
     ]
    },
    {
     "cell_type": "markdown",
     "metadata": {},
     "source": [
      "## Create some data"
     ]
    },
    {
     "cell_type": "code",
     "collapsed": false,
     "input": [
      "word_list = ['Egypt',\n",
      "             'Watching',\n",
      "             'Eleanor']\n",
      "\n",
      "vowels = ['A',\n",
      "          'E',\n",
      "          'I',\n",
      "          'O',\n",
      "          'U']"
     ],
     "language": "python",
     "metadata": {},
     "outputs": [
      {
       "output_type": "stream",
       "stream": "stdout",
       "text": [
        "Is valid\n",
        "Invalid\n",
        "Is valid\n"
       ]
      }
     ],
     "prompt_number": 11
    },
    {
     "cell_type": "markdown",
     "metadata": {},
     "source": [
      "## Create a for loop"
     ]
    },
    {
     "cell_type": "code",
     "collapsed": false,
     "input": [
      "# for each item in the word_list,\n",
      "for word in word_list:\n",
      "    # if any word starts with e, where e is vowels,\n",
      "    if any([word.startswith(e) for e in vowels]):\n",
      "        # then print is valid,\n",
      "        print('Is valid')\n",
      "    # if not,    \n",
      "    else:\n",
      "        # print invalid\n",
      "        print('Invalid')"
     ],
     "language": "python",
     "metadata": {},
     "outputs": [
      {
       "output_type": "stream",
       "stream": "stdout",
       "text": [
        "Is valid\n",
        "Invalid\n",
        "Is valid\n"
       ]
      }
     ],
     "prompt_number": 12
    }
   ],
   "metadata": {}
  }
 ]
}