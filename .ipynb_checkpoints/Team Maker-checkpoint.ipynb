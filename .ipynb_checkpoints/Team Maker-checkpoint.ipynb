{
 "metadata": {
  "name": "",
  "signature": "sha256:2413b0f161069741f95c0f0fb0360cbd9e980b48c636aa3f01432d348a79c660"
 },
 "nbformat": 3,
 "nbformat_minor": 0,
 "worksheets": [
  {
   "cells": [
    {
     "cell_type": "markdown",
     "metadata": {},
     "source": [
      "# The Ushahidi Team Maker\n",
      "\n",
      "*Creating esprit de corps through random.shuffle().*\n",
      "\n",
      "**Operations:**\n",
      "- Scrapes  Ushahidi team page for names\n",
      "- Randomly assigns people to groups\n",
      "- Assigns an uberconference room\n",
      "- Prints results"
     ]
    },
    {
     "cell_type": "code",
     "collapsed": false,
     "input": [
      "# Import required modules\n",
      "import requests\n",
      "from bs4 import BeautifulSoup\n",
      "import random"
     ],
     "language": "python",
     "metadata": {},
     "outputs": [],
     "prompt_number": 1
    },
    {
     "cell_type": "code",
     "collapsed": false,
     "input": [
      "# Create a variable with the URL\n",
      "url_names = 'http://www.ushahidi.com/mission/team/'\n",
      "\n",
      "# Scrape the HTML at the url\n",
      "r_names = requests.get(url_names)\n",
      "\n",
      "# Turn the HTML into a Beautiful Soup object\n",
      "soup_names = BeautifulSoup(r_names.text)"
     ],
     "language": "python",
     "metadata": {},
     "outputs": [],
     "prompt_number": 2
    },
    {
     "cell_type": "code",
     "collapsed": false,
     "input": [
      "team = []"
     ],
     "language": "python",
     "metadata": {},
     "outputs": [],
     "prompt_number": 3
    },
    {
     "cell_type": "code",
     "collapsed": false,
     "input": [
      "for item in soup_names.find_all({'h3'}): \n",
      "    team.append(item.string.strip())"
     ],
     "language": "python",
     "metadata": {},
     "outputs": [],
     "prompt_number": 4
    },
    {
     "cell_type": "code",
     "collapsed": false,
     "input": [
      "def make_groups(l, n):\n",
      "    random.shuffle(l)\n",
      "    if n < 1:\n",
      "        n = 1\n",
      "    return [l[i:i + n] for i in range(0, len(l), n)]"
     ],
     "language": "python",
     "metadata": {},
     "outputs": [],
     "prompt_number": 5
    },
    {
     "cell_type": "code",
     "collapsed": false,
     "input": [
      "groups = make_groups(team, 10)"
     ],
     "language": "python",
     "metadata": {},
     "outputs": [],
     "prompt_number": 6
    },
    {
     "cell_type": "code",
     "collapsed": false,
     "input": [
      "rooms = ['https://www.uberconference.com/ushahidi', \n",
      "         'https://www.uberconference.com/chrisalbon', \n",
      "         'https://www.uberconference.com/natmanning',\n",
      "         'https://www.uberconference.com/juliana',\n",
      "         'https://www.uberconference.com/woody',\n",
      "         'https://www.uberconference.com/brian']"
     ],
     "language": "python",
     "metadata": {},
     "outputs": [],
     "prompt_number": 7
    },
    {
     "cell_type": "code",
     "collapsed": false,
     "input": [
      "n = 0\n",
      "for item in groups:\n",
      "    print('Group #', n+1)\n",
      "    print('Room:', rooms[n])\n",
      "    print(sep='\\n')\n",
      "    print(*item, sep='\\n')\n",
      "    print(sep='\\n')\n",
      "    n = n+1"
     ],
     "language": "python",
     "metadata": {},
     "outputs": [
      {
       "output_type": "stream",
       "stream": "stdout",
       "text": [
        "Group # 1\n",
        "Room: https://www.uberconference.com/ushahidi\n",
        "\n",
        "Juliana Rotich\n",
        "Sara-Jayne Terp\n",
        "Woody Gilk\n",
        "David Kobia\n",
        "Vidya Spandana\n",
        "Angela Oduor\n",
        "Jonathon Morgan\n",
        "Ben Lieblich\n",
        "Linda Kamau\n",
        "Henry Addo\n",
        "\n",
        "Group # 2\n",
        "Room: https://www.uberconference.com/chrisalbon\n",
        "\n",
        "Mathias Antonsson\n",
        "Gregory Omondi\n",
        "Chris Albon, Ph.D.\n",
        "Rob Baker\n",
        "Brian Herbert\n",
        "Shadrock Roberts\n",
        "Nathaniel Manning\n",
        "Anarghya Vardhana\n",
        "Limo Taboi\n",
        "Sharon Rutto\n",
        "\n",
        "Group # 3\n",
        "Room: https://www.uberconference.com/natmanning\n",
        "\n",
        "Sebastian Mitchell\n",
        "Aurelia Moser\n",
        "Robbie Mackay\n",
        "Zack Halloran\n",
        "Daudi Were\n",
        "Jepchumba Thomas\n",
        "Jon Shuler\n",
        "Esther Ondigo\n",
        "Seth Hall\n",
        "\n"
       ]
      }
     ],
     "prompt_number": 8
    },
    {
     "cell_type": "code",
     "collapsed": false,
     "input": [],
     "language": "python",
     "metadata": {},
     "outputs": [],
     "prompt_number": 8
    }
   ],
   "metadata": {}
  }
 ]
}